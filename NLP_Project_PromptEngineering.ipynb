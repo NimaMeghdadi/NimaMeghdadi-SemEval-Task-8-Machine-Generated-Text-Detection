{
  "cells": [
    {
      "cell_type": "markdown",
      "metadata": {
        "id": "VE2gYtzIU-av"
      },
      "source": [
        "# **HIPAA Dataset**"
      ]
    },
    {
      "cell_type": "code",
      "execution_count": null,
      "metadata": {
        "colab": {
          "base_uri": "https://localhost:8080/"
        },
        "id": "hV4FGL42BAOX",
        "outputId": "b0db2c6d-a5e7-4eb6-ac2e-338f9192ba00"
      },
      "outputs": [
        {
          "name": "stderr",
          "output_type": "stream",
          "text": [
            "Downloading...\n",
            "From: https://drive.google.com/uc?id=1W_XbXGcCumLIBGuAJkCRZ6dEa6APgrds\n",
            "To: /content/HIPAA-original-json.zip\n",
            "100%|██████████| 78.1k/78.1k [00:00<00:00, 28.7MB/s]"
          ]
        },
        {
          "name": "stdout",
          "output_type": "stream",
          "text": [
            "Archive:  HIPAA-original-json.zip\n",
            "   creating: HIPAA-original-json/\n",
            "  inflating: HIPAA-original-json/ALLRequirements.json  \n",
            "  inflating: HIPAA-original-json/ALLTraces.json  \n",
            "  inflating: HIPAA-original-json/RegulatoryCodes.json  \n"
          ]
        },
        {
          "name": "stderr",
          "output_type": "stream",
          "text": [
            "\n"
          ]
        }
      ],
      "source": [
        "import gdown\n",
        "\n",
        "url = 'https://drive.google.com/file/d/1W_XbXGcCumLIBGuAJkCRZ6dEa6APgrds/view?usp=sharing'\n",
        "gdown.download(url, fuzzy=True)\n",
        "\n",
        "!unzip HIPAA-original-json.zip"
      ]
    },
    {
      "cell_type": "code",
      "execution_count": null,
      "metadata": {
        "id": "Rg_cIUsfGay6"
      },
      "outputs": [],
      "source": [
        "import json\n",
        "\n",
        "requirements = {}\n",
        "regulations = {}\n",
        "alltraces = {}\n",
        "\n",
        "addr = \"HIPAA-original-json/ALLRequirements.json\"\n",
        "with open(addr, 'r') as myfile:\n",
        "    json_data = json.load(myfile)\n",
        "artifacts = json_data[\"artifacts\"][\"artifact\"]\n",
        "for tmp in artifacts:\n",
        "  requirements[tmp['art_id']] = tmp['art_title']\n",
        "\n",
        "\n",
        "addr = \"HIPAA-original-json/ALLTraces.json\"\n",
        "with open(addr, 'r') as myfile:\n",
        "    json_data = json.load(myfile)\n",
        "traces = json_data[\"traces\"]\n",
        "cnt = 0\n",
        "for trace in traces:\n",
        "  req_id = trace['requirement-id']\n",
        "  reg_id = trace['regulatory-code']\n",
        "  if req_id not in list(alltraces.keys()): alltraces[req_id] = []\n",
        "  alltraces[req_id].append(reg_id)\n",
        "\n",
        "addr = \"HIPAA-original-json/RegulatoryCodes.json\"\n",
        "with open(addr, 'r') as myfile:\n",
        "    json_data = json.load(myfile)\n",
        "regulatory_codes = json_data[\"artifacts\"][\"artifact\"]\n",
        "for tmp in regulatory_codes:\n",
        "  regulations[tmp['art_id']] = tmp['art_title']"
      ]
    },
    {
      "cell_type": "code",
      "execution_count": null,
      "metadata": {
        "colab": {
          "base_uri": "https://localhost:8080/"
        },
        "id": "D5V4Pm8U58bA",
        "outputId": "f25d2d8e-efe8-4639-b3d0-cc615d8c6174"
      },
      "outputs": [
        {
          "name": "stdout",
          "output_type": "stream",
          "text": [
            "total number of requirements:  1891\n",
            "total number of regulations:  10\n",
            "total number of requirements that have links to regulations:  230\n",
            "number of all links existed:  243\n"
          ]
        }
      ],
      "source": [
        "print('total number of requirements: ', len(list(requirements.keys())))\n",
        "print('total number of regulations: ', len(list(regulations.keys())))\n",
        "print('total number of requirements that have links to regulations: ', len(list(alltraces.keys())))\n",
        "print('number of all links existed: ', len(traces))"
      ]
    },
    {
      "cell_type": "code",
      "execution_count": null,
      "metadata": {
        "colab": {
          "base_uri": "https://localhost:8080/"
        },
        "id": "0Cx302Tu9BOx",
        "outputId": "01e4ebb1-c075-4fa0-f34d-b61b9b0d97a0"
      },
      "outputs": [
        {
          "name": "stdout",
          "output_type": "stream",
          "text": [
            "{'AC': 53, 'AL': 10, 'AUD': 86, 'PA': 42, 'SED': 7, 'TED': 5, 'EAP': 4, 'IC': 18, 'TS': 7, 'UUI': 11}\n",
            "Number of Positive Instances:\n",
            "number of instances in train:  200\n",
            "number of instances in test:  43\n"
          ]
        }
      ],
      "source": [
        "train, test = [], []\n",
        "split = 0.8\n",
        "regulation_cnt = {}\n",
        "\n",
        "## positive samples --> requirements that have at least one link to a regulation\n",
        "for _id in list(alltraces.keys()):\n",
        "  for _reg_id in alltraces[_id]:\n",
        "    regulation_cnt[_reg_id] = regulation_cnt.get(_reg_id, 0) + 1\n",
        "print(regulation_cnt)\n",
        "\n",
        "for reg in list(regulation_cnt.keys()):\n",
        "  n = regulation_cnt[reg]\n",
        "  split_cnt = int(split * n)\n",
        "  c = 0\n",
        "  for req_id in list(alltraces.keys()):\n",
        "    regs = alltraces[req_id]\n",
        "    if reg in regs:\n",
        "      if c > split_cnt:\n",
        "        test.append({'requirement': requirements[req_id], 'regulation': regulations[reg], 'label': 'linked'})\n",
        "      else:\n",
        "        train.append({'requirement': requirements[req_id], 'regulation': regulations[reg], 'label': 'linked'})\n",
        "      c += 1\n",
        "\n",
        "print('Number of Positive Instances:')\n",
        "print('number of instances in train: ', len(train))\n",
        "print('number of instances in test: ', len(test))"
      ]
    },
    {
      "cell_type": "code",
      "execution_count": null,
      "metadata": {
        "colab": {
          "base_uri": "https://localhost:8080/"
        },
        "id": "ylRbrWnJBBLP",
        "outputId": "7a3a68e0-251b-4ed2-c19f-fb4f50616be8"
      },
      "outputs": [
        {
          "name": "stdout",
          "output_type": "stream",
          "text": [
            "Number of Instances:\n",
            "number of instances in train:  395\n",
            "number of instances in test:  92\n"
          ]
        }
      ],
      "source": [
        "import random\n",
        "\n",
        "alltraces_keys = list(alltraces.keys())\n",
        "regulations_texts = list(regulations.values())\n",
        "N = len(train) + len(test)\n",
        "cnt = 0\n",
        "candidates = []\n",
        "for _id in list(requirements.keys()):\n",
        "  if _id not in alltraces_keys:\n",
        "    if cnt > N: break\n",
        "    cnt += 1\n",
        "    _index = random.randint(0, len(regulations_texts)-1)\n",
        "    candidates.append({'requirement': requirements[req_id], 'regulation': regulations_texts[_index], 'label': 'not_linked'})\n",
        "\n",
        "split_point = int(0.8 * len(candidates))\n",
        "train.extend(candidates[:split_point])\n",
        "test.extend(candidates[split_point:])\n",
        "print('Number of Instances:')\n",
        "print('number of instances in train: ', len(train))\n",
        "print('number of instances in test: ', len(test))"
      ]
    },
    {
      "cell_type": "code",
      "execution_count": null,
      "metadata": {
        "colab": {
          "base_uri": "https://localhost:8080/"
        },
        "id": "ICQruMU0S2un",
        "outputId": "4ef0c1ee-7fa6-494d-e4b1-3bb4f85119ea"
      },
      "outputs": [
        {
          "name": "stdout",
          "output_type": "stream",
          "text": [
            "{'requirement': 'System will implement access control list mechanism to obtain information security. ACL system will be derived from the hierarchy in hospital / healthcare environments', 'regulation': 'Access Control. Implement technical policies and procedures for electronic information systems that maintain electronic protected health information to allow access only to those persons or software programs that have been granted access rights as specified in ? 164.308(a)(4).', 'label': 'linked'}\n"
          ]
        }
      ],
      "source": [
        "print(train[0])"
      ]
    },
    {
      "cell_type": "code",
      "execution_count": null,
      "metadata": {
        "id": "RMsQ-bH6eqK_"
      },
      "outputs": [],
      "source": [
        "inverse_regulations = {v:k for k,v in regulations.items()}"
      ]
    },
    {
      "cell_type": "code",
      "execution_count": null,
      "metadata": {
        "id": "QLM4qMn7evH_"
      },
      "outputs": [],
      "source": [
        "new_test = []\n",
        "for i in range(len(test)):\n",
        "  new_test.append({'requirement': test[i]['requirement'], 'regulation': test[i]['regulation'], 'reg_code':inverse_regulations[test[i]['regulation']], 'label': test[i]['label']})\n",
        "\n",
        "test = new_test"
      ]
    },
    {
      "cell_type": "code",
      "execution_count": null,
      "metadata": {
        "id": "ea2m8Zbei7Zr"
      },
      "outputs": [],
      "source": [
        "new_train = []\n",
        "for i in range(len(train)):\n",
        "  new_train.append({'requirement': train[i]['requirement'], 'regulation': train[i]['regulation'], 'reg_code':inverse_regulations[train[i]['regulation']], 'label': train[i]['label']})\n",
        "\n",
        "train = new_train"
      ]
    },
    {
      "cell_type": "code",
      "execution_count": null,
      "metadata": {
        "colab": {
          "base_uri": "https://localhost:8080/"
        },
        "id": "FDVvkIQQfQgk",
        "outputId": "82658640-1040-4584-8cf8-edb9c7841deb"
      },
      "outputs": [
        {
          "name": "stdout",
          "output_type": "stream",
          "text": [
            "[{'requirement': 'The system shall support role-based access for security controls.', 'regulation': 'Access Control. Implement technical policies and procedures for electronic information systems that maintain electronic protected health information to allow access only to those persons or software programs that have been granted access rights as specified in ? 164.308(a)(4).', 'reg_code': 'AC', 'label': 'linked'}, {'requirement': 'The system shall implement a user class hierarchy to identify the roles that different users fulfill within the hospital.', 'regulation': 'Access Control. Implement technical policies and procedures for electronic information systems that maintain electronic protected health information to allow access only to those persons or software programs that have been granted access rights as specified in ? 164.308(a)(4).', 'reg_code': 'AC', 'label': 'linked'}, {'requirement': 'The system shall allow user classes to be defined hospital-wide or more narrowly for a specific service.', 'regulation': 'Access Control. Implement technical policies and procedures for electronic information systems that maintain electronic protected health information to allow access only to those persons or software programs that have been granted access rights as specified in ? 164.308(a)(4).', 'reg_code': 'AC', 'label': 'linked'}, {'requirement': 'The system shall allow user classes to be used across VistA to replace and/or complement security keys.', 'regulation': 'Access Control. Implement technical policies and procedures for electronic information systems that maintain electronic protected health information to allow access only to those persons or software programs that have been granted access rights as specified in ? 164.308(a)(4).', 'reg_code': 'AC', 'label': 'linked'}, {'requirement': 'The system shall require the entry of an access code and a verify code to gain access to the system.', 'regulation': 'Access Control. Implement technical policies and procedures for electronic information systems that maintain electronic protected health information to allow access only to those persons or software programs that have been granted access rights as specified in ? 164.308(a)(4).', 'reg_code': 'AC', 'label': 'linked'}, {'requirement': 'The system shall allow users who hold any of the ORES/ORELSE/PROVIDER keys to be viewed as a clinical user and has full access privileges to all problem list options.', 'regulation': 'Access Control. Implement technical policies and procedures for electronic information systems that maintain electronic protected health information to allow access only to those persons or software programs that have been granted access rights as specified in ? 164.308(a)(4).', 'reg_code': 'AC', 'label': 'linked'}, {'requirement': 'Clinician should have proper identification/authorization to access patient-specific information everywhere such information exists;', 'regulation': 'Access Control. Implement technical policies and procedures for electronic information systems that maintain electronic protected health information to allow access only to those persons or software programs that have been granted access rights as specified in ? 164.308(a)(4).', 'reg_code': 'AC', 'label': 'linked'}, {'requirement': 'Clinician should have proper identification/authorization to access and review patient-specific information', 'regulation': 'Access Control. Implement technical policies and procedures for electronic information systems that maintain electronic protected health information to allow access only to those persons or software programs that have been granted access rights as specified in ? 164.308(a)(4).', 'reg_code': 'AC', 'label': 'linked'}, {'requirement': 'methods to enforce data access authorization policies.', 'regulation': 'Access Control. Implement technical policies and procedures for electronic information systems that maintain electronic protected health information to allow access only to those persons or software programs that have been granted access rights as specified in ? 164.308(a)(4).', 'reg_code': 'AC', 'label': 'linked'}, {'requirement': 'Authenticate and verify as ordering clinician or provider of care: May include provider identification and validation of credentials, privileges and/or other authorization.', 'regulation': 'Access Control. Implement technical policies and procedures for electronic information systems that maintain electronic protected health information to allow access only to those persons or software programs that have been granted access rights as specified in ? 164.308(a)(4).', 'reg_code': 'AC', 'label': 'linked'}, {'requirement': 'The system shall ask the user if the user wants to continue using the system before timing out.', 'regulation': 'Automatic logoff. Implement electronic procedures that terminate an electronic session after a predetermined time of inactivity.', 'reg_code': 'AL', 'label': 'linked'}, {'requirement': 'System should record a log everytime View medical records transaction is performed', 'regulation': 'Audit Controls. Implement hardware, software, and/or procedural mechanisms that record and examine activity in information systems that contain or use electronic protected health information.', 'reg_code': 'AUD', 'label': 'linked'}, {'requirement': 'System should record a log everytime Authenticate users transaction is performed', 'regulation': 'Audit Controls. Implement hardware, software, and/or procedural mechanisms that record and examine activity in information systems that contain or use electronic protected health information.', 'reg_code': 'AUD', 'label': 'linked'}, {'requirement': 'System should record a log everytime Enter/edit personal health information transaction is performed', 'regulation': 'Audit Controls. Implement hardware, software, and/or procedural mechanisms that record and examine activity in information systems that contain or use electronic protected health information.', 'reg_code': 'AUD', 'label': 'linked'}, {'requirement': 'System should record a log everytime Document office visit transaction is performed', 'regulation': 'Audit Controls. Implement hardware, software, and/or procedural mechanisms that record and examine activity in information systems that contain or use electronic protected health information.', 'reg_code': 'AUD', 'label': 'linked'}, {'requirement': 'System should record a log everytime Create/disable patient or HCP transaction is performed', 'regulation': 'Audit Controls. Implement hardware, software, and/or procedural mechanisms that record and examine activity in information systems that contain or use electronic protected health information.', 'reg_code': 'AUD', 'label': 'linked'}, {'requirement': 'System should record a log everytime Diagnosis code transaction is performed', 'regulation': 'Audit Controls. Implement hardware, software, and/or procedural mechanisms that record and examine activity in information systems that contain or use electronic protected health information.', 'reg_code': 'AUD', 'label': 'linked'}, {'requirement': 'Access to each chart is logged, there are varying levels of auditing that can be turned on - such as auditing opening a form', 'regulation': 'Audit Controls. Implement hardware, software, and/or procedural mechanisms that record and examine activity in information systems that contain or use electronic protected health information.', 'reg_code': 'AUD', 'label': 'linked'}, {'requirement': 'Custom auditing can be plugged in for various events.', 'regulation': 'Audit Controls. Implement hardware, software, and/or procedural mechanisms that record and examine activity in information systems that contain or use electronic protected health information.', 'reg_code': 'AUD', 'label': 'linked'}, {'requirement': 'The system audit trail shall automatically capture system data changes, edits, charged, credits by all users.', 'regulation': 'Audit Controls. Implement hardware, software, and/or procedural mechanisms that record and examine activity in information systems that contain or use electronic protected health information.', 'reg_code': 'AUD', 'label': 'linked'}, {'requirement': 'The system shall support audit capability.', 'regulation': 'Audit Controls. Implement hardware, software, and/or procedural mechanisms that record and examine activity in information systems that contain or use electronic protected health information.', 'reg_code': 'AUD', 'label': 'linked'}, {'requirement': 'The system shall audit sensitive records, enabling a site to follow up on a record accessed by a remote location.', 'regulation': 'Audit Controls. Implement hardware, software, and/or procedural mechanisms that record and examine activity in information systems that contain or use electronic protected health information.', 'reg_code': 'AUD', 'label': 'linked'}, {'requirement': 'Log interaction with data repository', 'regulation': 'Audit Controls. Implement hardware, software, and/or procedural mechanisms that record and examine activity in information systems that contain or use electronic protected health information.', 'reg_code': 'AUD', 'label': 'linked'}, {'requirement': 'Log receipt and storage of lab test results', 'regulation': 'Audit Controls. Implement hardware, software, and/or procedural mechanisms that record and examine activity in information systems that contain or use electronic protected health information.', 'reg_code': 'AUD', 'label': 'linked'}, {'requirement': 'Log interaction with locator system', 'regulation': 'Audit Controls. Implement hardware, software, and/or procedural mechanisms that record and examine activity in information systems that contain or use electronic protected health information.', 'reg_code': 'AUD', 'label': 'linked'}, {'requirement': 'Log receipt of lab test results: Include patient consent information in log.', 'regulation': 'Audit Controls. Implement hardware, software, and/or procedural mechanisms that record and examine activity in information systems that contain or use electronic protected health information.', 'reg_code': 'AUD', 'label': 'linked'}, {'requirement': 'Log interaction with locator service', 'regulation': 'Audit Controls. Implement hardware, software, and/or procedural mechanisms that record and examine activity in information systems that contain or use electronic protected health information.', 'reg_code': 'AUD', 'label': 'linked'}, {'requirement': 'Log interaction with clinician', 'regulation': 'Audit Controls. Implement hardware, software, and/or procedural mechanisms that record and examine activity in information systems that contain or use electronic protected health information.', 'reg_code': 'AUD', 'label': 'linked'}, {'requirement': 'Submit authentication: Establish clinician s identity and verify whether clinician is a provider of care', 'regulation': 'Person or entity authentication. Implement procedures to verify that a person or entity seeking access to electronic protected health information is the one claimed.', 'reg_code': 'PA', 'label': 'linked'}, {'requirement': 'One of many authentication methods could be used (biometrics, card, token or user ID and password, cryptographic techniques).', 'regulation': 'Person or entity authentication. Implement procedures to verify that a person or entity seeking access to electronic protected health information is the one claimed.', 'reg_code': 'PA', 'label': 'linked'}, {'requirement': 'Clinician should have proper identification/authorization to access patient-specific information everywhere such information exists;', 'regulation': 'Person or entity authentication. Implement procedures to verify that a person or entity seeking access to electronic protected health information is the one claimed.', 'reg_code': 'PA', 'label': 'linked'}, {'requirement': 'Clinician should have proper identification/authorization to access and review patient-specific information', 'regulation': 'Person or entity authentication. Implement procedures to verify that a person or entity seeking access to electronic protected health information is the one claimed.', 'reg_code': 'PA', 'label': 'linked'}, {'requirement': 'Authenticate clinician requesting laboratory test results', 'regulation': 'Person or entity authentication. Implement procedures to verify that a person or entity seeking access to electronic protected health information is the one claimed.', 'reg_code': 'PA', 'label': 'linked'}, {'requirement': 'Establish clinician s identity and verify status as ordering clinician or provider of care.', 'regulation': 'Person or entity authentication. Implement procedures to verify that a person or entity seeking access to electronic protected health information is the one claimed.', 'reg_code': 'PA', 'label': 'linked'}, {'requirement': 'Note that the clinician may be an individual, an organization or  system.  The nature of the identification/authentication will be different in each case.', 'regulation': 'Person or entity authentication. Implement procedures to verify that a person or entity seeking access to electronic protected health information is the one claimed.', 'reg_code': 'PA', 'label': 'linked'}, {'requirement': 'Submit authentication information to locator system: Establish clinician s identity and verify whether clinician is a provider of care Note that the clinician may be an individual, an organization or  system .', 'regulation': 'Person or entity authentication. Implement procedures to verify that a person or entity seeking access to electronic protected health information is the one claimed.', 'reg_code': 'PA', 'label': 'linked'}, {'requirement': 'Individual fields can be encrypted.', 'regulation': 'Encryption. Implement a mechanism to encrypt electronic protected health information whenever deemed appropriate.', 'reg_code': 'SED', 'label': 'linked'}, {'requirement': 'Verify integrity of test result (file) contents and that the results came from the identified source.', 'regulation': 'Integrity controls. Implement security measures to ensure that electronically transmitted electronic protected health information is not improperly modified without detection until disposed of.', 'reg_code': 'IC', 'label': 'linked'}, {'requirement': 'methods to ensure the veracity of data,', 'regulation': 'Integrity controls. Implement security measures to ensure that electronically transmitted electronic protected health information is not improperly modified without detection until disposed of.', 'reg_code': 'IC', 'label': 'linked'}, {'requirement': 'Authorize release of laboratory test results: Test results released to clinician based on verification as ordering clinician or provider of care status and other appropriate restrictions for use.', 'regulation': 'Integrity controls. Implement security measures to ensure that electronically transmitted electronic protected health information is not improperly modified without detection until disposed of.', 'reg_code': 'IC', 'label': 'linked'}, {'requirement': 'The secrecy of the content is maintained during transmission.', 'regulation': 'Transmission security. Implement technical security measures to guard against unauthorized access to electronic protected health information that is being transmitted over an electronic communications network.', 'reg_code': 'TS', 'label': 'linked'}, {'requirement': 'methods to correctly match patients across systems.', 'regulation': 'Unique user identification. Assign a unique name and/or number for identifying and tracking user identity.', 'reg_code': 'UUI', 'label': 'linked'}, {'requirement': 'Clinician should be able to uniquely identify patient for which information has been requested;', 'regulation': 'Unique user identification. Assign a unique name and/or number for identifying and tracking user identity.', 'reg_code': 'UUI', 'label': 'linked'}, {'requirement': 'The secrecy of the content is maintained during transmission.', 'regulation': 'Audit Controls. Implement hardware, software, and/or procedural mechanisms that record and examine activity in information systems that contain or use electronic protected health information.', 'reg_code': 'AUD', 'label': 'not_linked'}, {'requirement': 'The secrecy of the content is maintained during transmission.', 'regulation': 'Audit Controls. Implement hardware, software, and/or procedural mechanisms that record and examine activity in information systems that contain or use electronic protected health information.', 'reg_code': 'AUD', 'label': 'not_linked'}, {'requirement': 'The secrecy of the content is maintained during transmission.', 'regulation': 'Integrity controls. Implement security measures to ensure that electronically transmitted electronic protected health information is not improperly modified without detection until disposed of.', 'reg_code': 'IC', 'label': 'not_linked'}, {'requirement': 'The secrecy of the content is maintained during transmission.', 'regulation': 'Encryption. Implement a mechanism to encrypt electronic protected health information whenever deemed appropriate.', 'reg_code': 'SED', 'label': 'not_linked'}, {'requirement': 'The secrecy of the content is maintained during transmission.', 'regulation': 'Unique user identification. Assign a unique name and/or number for identifying and tracking user identity.', 'reg_code': 'UUI', 'label': 'not_linked'}, {'requirement': 'The secrecy of the content is maintained during transmission.', 'regulation': 'Audit Controls. Implement hardware, software, and/or procedural mechanisms that record and examine activity in information systems that contain or use electronic protected health information.', 'reg_code': 'AUD', 'label': 'not_linked'}, {'requirement': 'The secrecy of the content is maintained during transmission.', 'regulation': 'Encryption and decryption. Implement a mechanism to encrypt and decrypt electronic protected health information.', 'reg_code': 'TED', 'label': 'not_linked'}, {'requirement': 'The secrecy of the content is maintained during transmission.', 'regulation': 'Transmission security. Implement technical security measures to guard against unauthorized access to electronic protected health information that is being transmitted over an electronic communications network.', 'reg_code': 'TS', 'label': 'not_linked'}, {'requirement': 'The secrecy of the content is maintained during transmission.', 'regulation': 'Encryption. Implement a mechanism to encrypt electronic protected health information whenever deemed appropriate.', 'reg_code': 'SED', 'label': 'not_linked'}, {'requirement': 'The secrecy of the content is maintained during transmission.', 'regulation': 'Encryption. Implement a mechanism to encrypt electronic protected health information whenever deemed appropriate.', 'reg_code': 'SED', 'label': 'not_linked'}, {'requirement': 'The secrecy of the content is maintained during transmission.', 'regulation': 'Automatic logoff. Implement electronic procedures that terminate an electronic session after a predetermined time of inactivity.', 'reg_code': 'AL', 'label': 'not_linked'}, {'requirement': 'The secrecy of the content is maintained during transmission.', 'regulation': 'Automatic logoff. Implement electronic procedures that terminate an electronic session after a predetermined time of inactivity.', 'reg_code': 'AL', 'label': 'not_linked'}, {'requirement': 'The secrecy of the content is maintained during transmission.', 'regulation': 'Automatic logoff. Implement electronic procedures that terminate an electronic session after a predetermined time of inactivity.', 'reg_code': 'AL', 'label': 'not_linked'}, {'requirement': 'The secrecy of the content is maintained during transmission.', 'regulation': 'Integrity controls. Implement security measures to ensure that electronically transmitted electronic protected health information is not improperly modified without detection until disposed of.', 'reg_code': 'IC', 'label': 'not_linked'}, {'requirement': 'The secrecy of the content is maintained during transmission.', 'regulation': 'Unique user identification. Assign a unique name and/or number for identifying and tracking user identity.', 'reg_code': 'UUI', 'label': 'not_linked'}, {'requirement': 'The secrecy of the content is maintained during transmission.', 'regulation': 'Unique user identification. Assign a unique name and/or number for identifying and tracking user identity.', 'reg_code': 'UUI', 'label': 'not_linked'}, {'requirement': 'The secrecy of the content is maintained during transmission.', 'regulation': 'Integrity controls. Implement security measures to ensure that electronically transmitted electronic protected health information is not improperly modified without detection until disposed of.', 'reg_code': 'IC', 'label': 'not_linked'}, {'requirement': 'The secrecy of the content is maintained during transmission.', 'regulation': 'Integrity controls. Implement security measures to ensure that electronically transmitted electronic protected health information is not improperly modified without detection until disposed of.', 'reg_code': 'IC', 'label': 'not_linked'}, {'requirement': 'The secrecy of the content is maintained during transmission.', 'regulation': 'Encryption and decryption. Implement a mechanism to encrypt and decrypt electronic protected health information.', 'reg_code': 'TED', 'label': 'not_linked'}, {'requirement': 'The secrecy of the content is maintained during transmission.', 'regulation': 'Unique user identification. Assign a unique name and/or number for identifying and tracking user identity.', 'reg_code': 'UUI', 'label': 'not_linked'}, {'requirement': 'The secrecy of the content is maintained during transmission.', 'regulation': 'Encryption and decryption. Implement a mechanism to encrypt and decrypt electronic protected health information.', 'reg_code': 'TED', 'label': 'not_linked'}, {'requirement': 'The secrecy of the content is maintained during transmission.', 'regulation': 'Automatic logoff. Implement electronic procedures that terminate an electronic session after a predetermined time of inactivity.', 'reg_code': 'AL', 'label': 'not_linked'}, {'requirement': 'The secrecy of the content is maintained during transmission.', 'regulation': 'Audit Controls. Implement hardware, software, and/or procedural mechanisms that record and examine activity in information systems that contain or use electronic protected health information.', 'reg_code': 'AUD', 'label': 'not_linked'}, {'requirement': 'The secrecy of the content is maintained during transmission.', 'regulation': 'Audit Controls. Implement hardware, software, and/or procedural mechanisms that record and examine activity in information systems that contain or use electronic protected health information.', 'reg_code': 'AUD', 'label': 'not_linked'}, {'requirement': 'The secrecy of the content is maintained during transmission.', 'regulation': 'Unique user identification. Assign a unique name and/or number for identifying and tracking user identity.', 'reg_code': 'UUI', 'label': 'not_linked'}, {'requirement': 'The secrecy of the content is maintained during transmission.', 'regulation': 'Encryption and decryption. Implement a mechanism to encrypt and decrypt electronic protected health information.', 'reg_code': 'TED', 'label': 'not_linked'}, {'requirement': 'The secrecy of the content is maintained during transmission.', 'regulation': 'Person or entity authentication. Implement procedures to verify that a person or entity seeking access to electronic protected health information is the one claimed.', 'reg_code': 'PA', 'label': 'not_linked'}, {'requirement': 'The secrecy of the content is maintained during transmission.', 'regulation': 'Automatic logoff. Implement electronic procedures that terminate an electronic session after a predetermined time of inactivity.', 'reg_code': 'AL', 'label': 'not_linked'}, {'requirement': 'The secrecy of the content is maintained during transmission.', 'regulation': 'Integrity controls. Implement security measures to ensure that electronically transmitted electronic protected health information is not improperly modified without detection until disposed of.', 'reg_code': 'IC', 'label': 'not_linked'}, {'requirement': 'The secrecy of the content is maintained during transmission.', 'regulation': 'Integrity controls. Implement security measures to ensure that electronically transmitted electronic protected health information is not improperly modified without detection until disposed of.', 'reg_code': 'IC', 'label': 'not_linked'}, {'requirement': 'The secrecy of the content is maintained during transmission.', 'regulation': 'Access Control. Implement technical policies and procedures for electronic information systems that maintain electronic protected health information to allow access only to those persons or software programs that have been granted access rights as specified in ? 164.308(a)(4).', 'reg_code': 'AC', 'label': 'not_linked'}, {'requirement': 'The secrecy of the content is maintained during transmission.', 'regulation': 'Audit Controls. Implement hardware, software, and/or procedural mechanisms that record and examine activity in information systems that contain or use electronic protected health information.', 'reg_code': 'AUD', 'label': 'not_linked'}, {'requirement': 'The secrecy of the content is maintained during transmission.', 'regulation': 'Integrity controls. Implement security measures to ensure that electronically transmitted electronic protected health information is not improperly modified without detection until disposed of.', 'reg_code': 'IC', 'label': 'not_linked'}, {'requirement': 'The secrecy of the content is maintained during transmission.', 'regulation': 'Automatic logoff. Implement electronic procedures that terminate an electronic session after a predetermined time of inactivity.', 'reg_code': 'AL', 'label': 'not_linked'}, {'requirement': 'The secrecy of the content is maintained during transmission.', 'regulation': 'Encryption. Implement a mechanism to encrypt electronic protected health information whenever deemed appropriate.', 'reg_code': 'SED', 'label': 'not_linked'}, {'requirement': 'The secrecy of the content is maintained during transmission.', 'regulation': 'Encryption. Implement a mechanism to encrypt electronic protected health information whenever deemed appropriate.', 'reg_code': 'SED', 'label': 'not_linked'}, {'requirement': 'The secrecy of the content is maintained during transmission.', 'regulation': 'Unique user identification. Assign a unique name and/or number for identifying and tracking user identity.', 'reg_code': 'UUI', 'label': 'not_linked'}, {'requirement': 'The secrecy of the content is maintained during transmission.', 'regulation': 'Encryption and decryption. Implement a mechanism to encrypt and decrypt electronic protected health information.', 'reg_code': 'TED', 'label': 'not_linked'}, {'requirement': 'The secrecy of the content is maintained during transmission.', 'regulation': 'Person or entity authentication. Implement procedures to verify that a person or entity seeking access to electronic protected health information is the one claimed.', 'reg_code': 'PA', 'label': 'not_linked'}, {'requirement': 'The secrecy of the content is maintained during transmission.', 'regulation': 'Encryption. Implement a mechanism to encrypt electronic protected health information whenever deemed appropriate.', 'reg_code': 'SED', 'label': 'not_linked'}, {'requirement': 'The secrecy of the content is maintained during transmission.', 'regulation': 'Encryption and decryption. Implement a mechanism to encrypt and decrypt electronic protected health information.', 'reg_code': 'TED', 'label': 'not_linked'}, {'requirement': 'The secrecy of the content is maintained during transmission.', 'regulation': 'Transmission security. Implement technical security measures to guard against unauthorized access to electronic protected health information that is being transmitted over an electronic communications network.', 'reg_code': 'TS', 'label': 'not_linked'}, {'requirement': 'The secrecy of the content is maintained during transmission.', 'regulation': 'Unique user identification. Assign a unique name and/or number for identifying and tracking user identity.', 'reg_code': 'UUI', 'label': 'not_linked'}, {'requirement': 'The secrecy of the content is maintained during transmission.', 'regulation': 'Transmission security. Implement technical security measures to guard against unauthorized access to electronic protected health information that is being transmitted over an electronic communications network.', 'reg_code': 'TS', 'label': 'not_linked'}, {'requirement': 'The secrecy of the content is maintained during transmission.', 'regulation': 'Transmission security. Implement technical security measures to guard against unauthorized access to electronic protected health information that is being transmitted over an electronic communications network.', 'reg_code': 'TS', 'label': 'not_linked'}, {'requirement': 'The secrecy of the content is maintained during transmission.', 'regulation': 'Person or entity authentication. Implement procedures to verify that a person or entity seeking access to electronic protected health information is the one claimed.', 'reg_code': 'PA', 'label': 'not_linked'}, {'requirement': 'The secrecy of the content is maintained during transmission.', 'regulation': 'Automatic logoff. Implement electronic procedures that terminate an electronic session after a predetermined time of inactivity.', 'reg_code': 'AL', 'label': 'not_linked'}, {'requirement': 'The secrecy of the content is maintained during transmission.', 'regulation': 'Person or entity authentication. Implement procedures to verify that a person or entity seeking access to electronic protected health information is the one claimed.', 'reg_code': 'PA', 'label': 'not_linked'}, {'requirement': 'The secrecy of the content is maintained during transmission.', 'regulation': 'Person or entity authentication. Implement procedures to verify that a person or entity seeking access to electronic protected health information is the one claimed.', 'reg_code': 'PA', 'label': 'not_linked'}]\n"
          ]
        }
      ],
      "source": [
        "print(test)"
      ]
    },
    {
      "cell_type": "code",
      "execution_count": null,
      "metadata": {
        "colab": {
          "base_uri": "https://localhost:8080/"
        },
        "id": "KlHkCscFj5PH",
        "outputId": "ad2b87b3-820b-47a5-ed3f-78d29a302025"
      },
      "outputs": [
        {
          "name": "stdout",
          "output_type": "stream",
          "text": [
            "[{'requirement': 'System will implement access control list mechanism to obtain information security. ACL system will be derived from the hierarchy in hospital / healthcare environments', 'regulation': 'Access Control. Implement technical policies and procedures for electronic information systems that maintain electronic protected health information to allow access only to those persons or software programs that have been granted access rights as specified in ? 164.308(a)(4).', 'reg_code': 'AC', 'label': 'linked'}, {'requirement': \"The system shall provide the ability to prevent specified user(s) from accessing a designated patient's chart.\", 'regulation': 'Access Control. Implement technical policies and procedures for electronic information systems that maintain electronic protected health information to allow access only to those persons or software programs that have been granted access rights as specified in ? 164.308(a)(4).', 'reg_code': 'AC', 'label': 'linked'}, {'requirement': 'If role-based access control (RBAC) is supported, the system must be capable of operating within an RBAC infrastructure conforming to ANSI INCITS 359-2004, American National Standard for Information Technology   Role Based Access Control.', 'regulation': 'Access Control. Implement technical policies and procedures for electronic information systems that maintain electronic protected health information to allow access only to those persons or software programs that have been granted access rights as specified in ? 164.308(a)(4).', 'reg_code': 'AC', 'label': 'linked'}, {'requirement': 'If role-based access control (RBAC) is supported, the system shall be able to provide role based access control that is in compliance with the HL7 Permissions Catalog.', 'regulation': 'Access Control. Implement technical policies and procedures for electronic information systems that maintain electronic protected health information to allow access only to those persons or software programs that have been granted access rights as specified in ? 164.308(a)(4).', 'reg_code': 'AC', 'label': 'linked'}, {'requirement': 'The system must be able to associate permissions with a user using one or more of the following access controls: 1) user-based (access rights assigned to each user) 2) role-based (users are grouped and access rights assigned to these groups) or 3) context-based (role-based with additional access rights assigned or restricted based on the context of the transaction such as time-of-day, workstation-location, emergency-mode, etc.)', 'regulation': 'Access Control. Implement technical policies and procedures for electronic information systems that maintain electronic protected health information to allow access only to those persons or software programs that have been granted access rights as specified in ? 164.308(a)(4).', 'reg_code': 'AC', 'label': 'linked'}, {'requirement': 'The system shall be able to communicate identity information across domains and web services using  standards based user authentication and access control.', 'regulation': 'Access Control. Implement technical policies and procedures for electronic information systems that maintain electronic protected health information to allow access only to those persons or software programs that have been granted access rights as specified in ? 164.308(a)(4).', 'reg_code': 'AC', 'label': 'linked'}, {'requirement': 'The system shall enforce a limit of (configurable) consecutive invalid access attempts by a user.', 'regulation': 'Access Control. Implement technical policies and procedures for electronic information systems that maintain electronic protected health information to allow access only to those persons or software programs that have been granted access rights as specified in ? 164.308(a)(4).', 'reg_code': 'AC', 'label': 'linked'}, {'requirement': 'The system shall enforce the most restrictive set of rights/privileges or accesses needed by users/groups (e.g. System Administration, Clerical, Nurse, Doctor, etc.), or processes acting on behalf of users, for the performance of specified tasks.', 'regulation': 'Access Control. Implement technical policies and procedures for electronic information systems that maintain electronic protected health information to allow access only to those persons or software programs that have been granted access rights as specified in ? 164.308(a)(4).', 'reg_code': 'AC', 'label': 'linked'}, {'requirement': 'The system shall provide the ability for authorized administrators to assign restrictions or privileges to users/groups.', 'regulation': 'Access Control. Implement technical policies and procedures for electronic information systems that maintain electronic protected health information to allow access only to those persons or software programs that have been granted access rights as specified in ? 164.308(a)(4).', 'reg_code': 'AC', 'label': 'linked'}, {'requirement': 'The system, prior to a user login, shall display a (configurable) notice warning (e.g. The system should only be accessed by authorized users).', 'regulation': 'Access Control. Implement technical policies and procedures for electronic information systems that maintain electronic protected health information to allow access only to those persons or software programs that have been granted access rights as specified in ? 164.308(a)(4).', 'reg_code': 'AC', 'label': 'linked'}, {'requirement': \"The HIE shall provide a means to establish an effective date and an expiration date for a system's authorization to access information through the HIE.\", 'regulation': 'Access Control. Implement technical policies and procedures for electronic information systems that maintain electronic protected health information to allow access only to those persons or software programs that have been granted access rights as specified in ? 164.308(a)(4).', 'reg_code': 'AC', 'label': 'linked'}, {'requirement': \"The HIE shall provide a means to establish an effective date and an expiration date for an end user's authorization to access information through the HIE.\", 'regulation': 'Access Control. Implement technical policies and procedures for electronic information systems that maintain electronic protected health information to allow access only to those persons or software programs that have been granted access rights as specified in ? 164.308(a)(4).', 'reg_code': 'AC', 'label': 'linked'}, {'requirement': \"The HIE shall provide a means to suspend a system's authorization to access information through the HIE\", 'regulation': 'Access Control. Implement technical policies and procedures for electronic information systems that maintain electronic protected health information to allow access only to those persons or software programs that have been granted access rights as specified in ? 164.308(a)(4).', 'reg_code': 'AC', 'label': 'linked'}, {'requirement': 'The system shall allow an authorized administrator to set the inclusion or exclusion of audited events based on organizational policy and operating requirements/limits.', 'regulation': 'Access Control. Implement technical policies and procedures for electronic information systems that maintain electronic protected health information to allow access only to those persons or software programs that have been granted access rights as specified in ? 164.308(a)(4).', 'reg_code': 'AC', 'label': 'linked'}, {'requirement': 'The system shall allow restricting the access to individual order sets by user role or department', 'regulation': 'Access Control. Implement technical policies and procedures for electronic information systems that maintain electronic protected health information to allow access only to those persons or software programs that have been granted access rights as specified in ? 164.308(a)(4).', 'reg_code': 'AC', 'label': 'linked'}, {'requirement': 'The system shall allow the hospital to designate access to individual orders by user role and department.', 'regulation': 'Access Control. Implement technical policies and procedures for electronic information systems that maintain electronic protected health information to allow access only to those persons or software programs that have been granted access rights as specified in ? 164.308(a)(4).', 'reg_code': 'AC', 'label': 'linked'}, {'requirement': \"The system shall have the capacity to allow authorized entities 'read-only' access to the EHR according to agreed upon uses and only as part of an identified audit subject to appropriate authentication, authorization, and access control functionality.\", 'regulation': 'Access Control. Implement technical policies and procedures for electronic information systems that maintain electronic protected health information to allow access only to those persons or software programs that have been granted access rights as specified in ? 164.308(a)(4).', 'reg_code': 'AC', 'label': 'linked'}, {'requirement': 'The system shall provide the ability for the hospital to define user roles with access to order set management.', 'regulation': 'Access Control. Implement technical policies and procedures for electronic information systems that maintain electronic protected health information to allow access only to those persons or software programs that have been granted access rights as specified in ? 164.308(a)(4).', 'reg_code': 'AC', 'label': 'linked'}, {'requirement': 'The credentials system employs a standards compliant RBAC model so each user has permissions appropriate to their role', 'regulation': 'Access Control. Implement technical policies and procedures for electronic information systems that maintain electronic protected health information to allow access only to those persons or software programs that have been granted access rights as specified in ? 164.308(a)(4).', 'reg_code': 'AC', 'label': 'linked'}, {'requirement': 'Consumers may also want to decide who will view and communicate their personal health information.', 'regulation': 'Access Control. Implement technical policies and procedures for electronic information systems that maintain electronic protected health information to allow access only to those persons or software programs that have been granted access rights as specified in ? 164.308(a)(4).', 'reg_code': 'AC', 'label': 'linked'}, {'requirement': 'Without permissions and controls, consumer participation in the act of electronic health information exchange may be limited.', 'regulation': 'Access Control. Implement technical policies and procedures for electronic information systems that maintain electronic protected health information to allow access only to those persons or software programs that have been granted access rights as specified in ? 164.308(a)(4).', 'reg_code': 'AC', 'label': 'linked'}, {'requirement': 'Authorization may be required for patient coverage for a procedure, test, or medical equipment (e.g. surgical, continuous glucose monitor, insulin pump, prosthetics).', 'regulation': 'Access Control. Implement technical policies and procedures for electronic information systems that maintain electronic protected health information to allow access only to those persons or software programs that have been granted access rights as specified in ? 164.308(a)(4).', 'reg_code': 'AC', 'label': 'linked'}, {'requirement': 'The patient may create and/or update their list of providers and determine the access permissions that should be granted to those providers for their personally controlled health information as described in the Consumer Empowerment: 2007 Consumer Access to Clinical Information Detailed Use Case.', 'regulation': 'Access Control. Implement technical policies and procedures for electronic information systems that maintain electronic protected health information to allow access only to those persons or software programs that have been granted access rights as specified in ? 164.308(a)(4).', 'reg_code': 'AC', 'label': 'linked'}, {'requirement': 'The patient may also grant privileges to a consulting clinician to access personal health data within a health record bank.', 'regulation': 'Access Control. Implement technical policies and procedures for electronic information systems that maintain electronic protected health information to allow access only to those persons or software programs that have been granted access rights as specified in ? 164.308(a)(4).', 'reg_code': 'AC', 'label': 'linked'}, {'requirement': 'In a self-initiated consultation, the patient may provide permission to existing providers of care to share the core set of data associated with a consultation request.', 'regulation': 'Access Control. Implement technical policies and procedures for electronic information systems that maintain electronic protected health information to allow access only to those persons or software programs that have been granted access rights as specified in ? 164.308(a)(4).', 'reg_code': 'AC', 'label': 'linked'}, {'requirement': 'During the course of treatment, the patient may access updated clinical information via health information exchange as described in the Consumer Empowerment: 2007 Consumer Access to Clinical Information Detailed Use Case.', 'regulation': 'Access Control. Implement technical policies and procedures for electronic information systems that maintain electronic protected health information to allow access only to those persons or software programs that have been granted access rights as specified in ? 164.308(a)(4).', 'reg_code': 'AC', 'label': 'linked'}, {'requirement': 'System must support role based access', 'regulation': 'Access Control. Implement technical policies and procedures for electronic information systems that maintain electronic protected health information to allow access only to those persons or software programs that have been granted access rights as specified in ? 164.308(a)(4).', 'reg_code': 'AC', 'label': 'linked'}, {'requirement': 'System must allow designating and undesignating Licensed Health Care Professionals.', 'regulation': 'Access Control. Implement technical policies and procedures for electronic information systems that maintain electronic protected health information to allow access only to those persons or software programs that have been granted access rights as specified in ? 164.308(a)(4).', 'reg_code': 'AC', 'label': 'linked'}, {'requirement': 'Manage users and multiple roles per user using the User Editor.', 'regulation': 'Access Control. Implement technical policies and procedures for electronic information systems that maintain electronic protected health information to allow access only to those persons or software programs that have been granted access rights as specified in ? 164.308(a)(4).', 'reg_code': 'AC', 'label': 'linked'}, {'requirement': 'The system shall allow authorized personnel to access records via secure connectivity from anywhere, at any time.', 'regulation': 'Access Control. Implement technical policies and procedures for electronic information systems that maintain electronic protected health information to allow access only to those persons or software programs that have been granted access rights as specified in ? 164.308(a)(4).', 'reg_code': 'AC', 'label': 'linked'}, {'requirement': 'The system shall allow the administrator to establish user-defined security levels per user login.', 'regulation': 'Access Control. Implement technical policies and procedures for electronic information systems that maintain electronic protected health information to allow access only to those persons or software programs that have been granted access rights as specified in ? 164.308(a)(4).', 'reg_code': 'AC', 'label': 'linked'}, {'requirement': 'The system shall provide patients the ability to securely view physician approved medical data and lab results.', 'regulation': 'Access Control. Implement technical policies and procedures for electronic information systems that maintain electronic protected health information to allow access only to those persons or software programs that have been granted access rights as specified in ? 164.308(a)(4).', 'reg_code': 'AC', 'label': 'linked'}, {'requirement': 'The system must identify the user.', 'regulation': 'Access Control. Implement technical policies and procedures for electronic information systems that maintain electronic protected health information to allow access only to those persons or software programs that have been granted access rights as specified in ? 164.308(a)(4).', 'reg_code': 'AC', 'label': 'linked'}, {'requirement': 'The system must require a password only if the system has been logged out automatically.', 'regulation': 'Access Control. Implement technical policies and procedures for electronic information systems that maintain electronic protected health information to allow access only to those persons or software programs that have been granted access rights as specified in ? 164.308(a)(4).', 'reg_code': 'AC', 'label': 'linked'}, {'requirement': 'The system must check that only authorized users have access to systems and data.', 'regulation': 'Access Control. Implement technical policies and procedures for electronic information systems that maintain electronic protected health information to allow access only to those persons or software programs that have been granted access rights as specified in ? 164.308(a)(4).', 'reg_code': 'AC', 'label': 'linked'}, {'requirement': 'The systems must require each user to have only one user name  and one password.', 'regulation': 'Access Control. Implement technical policies and procedures for electronic information systems that maintain electronic protected health information to allow access only to those persons or software programs that have been granted access rights as specified in ? 164.308(a)(4).', 'reg_code': 'AC', 'label': 'linked'}, {'requirement': 'The system must provide security management the ability to assign or remove access rights for a user.', 'regulation': 'Access Control. Implement technical policies and procedures for electronic information systems that maintain electronic protected health information to allow access only to those persons or software programs that have been granted access rights as specified in ? 164.308(a)(4).', 'reg_code': 'AC', 'label': 'linked'}, {'requirement': 'The system must provide security management the ability to create a user.', 'regulation': 'Access Control. Implement technical policies and procedures for electronic information systems that maintain electronic protected health information to allow access only to those persons or software programs that have been granted access rights as specified in ? 164.308(a)(4).', 'reg_code': 'AC', 'label': 'linked'}, {'requirement': 'The system must assign each user to one or more roles.', 'regulation': 'Access Control. Implement technical policies and procedures for electronic information systems that maintain electronic protected health information to allow access only to those persons or software programs that have been granted access rights as specified in ? 164.308(a)(4).', 'reg_code': 'AC', 'label': 'linked'}, {'requirement': 'The system must enable each role to have one or more rights.', 'regulation': 'Access Control. Implement technical policies and procedures for electronic information systems that maintain electronic protected health information to allow access only to those persons or software programs that have been granted access rights as specified in ? 164.308(a)(4).', 'reg_code': 'AC', 'label': 'linked'}, {'requirement': 'The system must allow the creation of new role types with new combinations of rights.', 'regulation': 'Access Control. Implement technical policies and procedures for electronic information systems that maintain electronic protected health information to allow access only to those persons or software programs that have been granted access rights as specified in ? 164.308(a)(4).', 'reg_code': 'AC', 'label': 'linked'}, {'requirement': 'The system must provide an overview of who has which rights and whether some rights have not been assigned to anyone.', 'regulation': 'Access Control. Implement technical policies and procedures for electronic information systems that maintain electronic protected health information to allow access only to those persons or software programs that have been granted access rights as specified in ? 164.308(a)(4).', 'reg_code': 'AC', 'label': 'linked'}, {'requirement': 'The system must protect against unauthorized persons from getting access to personal data.', 'regulation': 'Access Control. Implement technical policies and procedures for electronic information systems that maintain electronic protected health information to allow access only to those persons or software programs that have been granted access rights as specified in ? 164.308(a)(4).', 'reg_code': 'AC', 'label': 'linked'}, {'requirement': 'System will implement session time outs and use cookies to terminate an electronic session', 'regulation': 'Automatic logoff. Implement electronic procedures that terminate an electronic session after a predetermined time of inactivity.', 'reg_code': 'AL', 'label': 'linked'}, {'requirement': 'The system upon detection of inactivity of an interactive session shall prevent further viewing and access to the system by that session by terminating the session, or by initiating a session lock that remains in effect until the user reestablishes access using appropriate identification and authentication procedures. The inactivity timeout shall be configurable.', 'regulation': 'Automatic logoff. Implement electronic procedures that terminate an electronic session after a predetermined time of inactivity.', 'reg_code': 'AL', 'label': 'linked'}, {'requirement': 'System has a timer allowing automatic logoff', 'regulation': 'Automatic logoff. Implement electronic procedures that terminate an electronic session after a predetermined time of inactivity.', 'reg_code': 'AL', 'label': 'linked'}, {'requirement': 'Electronic session must terminate after a pre-determined period of inactivity. Administrator must be able to specify this period', 'regulation': 'Automatic logoff. Implement electronic procedures that terminate an electronic session after a predetermined time of inactivity.', 'reg_code': 'AL', 'label': 'linked'}, {'requirement': 'Automatic timeout can be specified by role.', 'regulation': 'Automatic logoff. Implement electronic procedures that terminate an electronic session after a predetermined time of inactivity.', 'reg_code': 'AL', 'label': 'linked'}, {'requirement': 'Automatic timeout can be specified by location.', 'regulation': 'Automatic logoff. Implement electronic procedures that terminate an electronic session after a predetermined time of inactivity.', 'reg_code': 'AL', 'label': 'linked'}, {'requirement': 'When the system timeouts, the user is returned to the login page to sign in again.', 'regulation': 'Automatic logoff. Implement electronic procedures that terminate an electronic session after a predetermined time of inactivity.', 'reg_code': 'AL', 'label': 'linked'}, {'requirement': 'The system must time out if the user has been away from the system for some time.', 'regulation': 'Automatic logoff. Implement electronic procedures that terminate an electronic session after a predetermined time of inactivity.', 'reg_code': 'AL', 'label': 'linked'}, {'requirement': 'The system shall timeout after a period of inactivity.', 'regulation': 'Automatic logoff. Implement electronic procedures that terminate an electronic session after a predetermined time of inactivity.', 'reg_code': 'AL', 'label': 'linked'}, {'requirement': 'For every action done with a patient system will have a record in the data the user viewed / modified / created', 'regulation': 'Audit Controls. Implement hardware, software, and/or procedural mechanisms that record and examine activity in information systems that contain or use electronic protected health information.', 'reg_code': 'AUD', 'label': 'linked'}, {'requirement': 'The system shall allow an authorized administrator to set the inclusion or exclusion of audited events based on organizational policy and operating requirements/limits.', 'regulation': 'Audit Controls. Implement hardware, software, and/or procedural mechanisms that record and examine activity in information systems that contain or use electronic protected health information.', 'reg_code': 'AUD', 'label': 'linked'}, {'requirement': 'The system shall provide the ability to audit the date/time and user of each instance when a patient chart is printed by the system.', 'regulation': 'Audit Controls. Implement hardware, software, and/or procedural mechanisms that record and examine activity in information systems that contain or use electronic protected health information.', 'reg_code': 'AUD', 'label': 'linked'}, {'requirement': 'The system shall provide the ability to log outgoing information exchange in an auditable form.', 'regulation': 'Audit Controls. Implement hardware, software, and/or procedural mechanisms that record and examine activity in information systems that contain or use electronic protected health information.', 'reg_code': 'AUD', 'label': 'linked'}, {'requirement': 'The system shall provide the ability to record and display the identity of the user who addended or corrected a note and the date and time of the change.', 'regulation': 'Audit Controls. Implement hardware, software, and/or procedural mechanisms that record and examine activity in information systems that contain or use electronic protected health information.', 'reg_code': 'AUD', 'label': 'linked'}, {'requirement': \"The system shall provide the ability to record the date of changes made to a patient's medication list and the identity of the user who made the changes.\", 'regulation': 'Audit Controls. Implement hardware, software, and/or procedural mechanisms that record and examine activity in information systems that contain or use electronic protected health information.', 'reg_code': 'AUD', 'label': 'linked'}, {'requirement': 'The system shall provide the ability to record the identity of the user finalizing each note and the date and time of finalization.', 'regulation': 'Audit Controls. Implement hardware, software, and/or procedural mechanisms that record and examine activity in information systems that contain or use electronic protected health information.', 'reg_code': 'AUD', 'label': 'linked'}, {'requirement': 'The system shall provide the ability to record the user ID and date of all updates to the problem list.', 'regulation': 'Audit Controls. Implement hardware, software, and/or procedural mechanisms that record and examine activity in information systems that contain or use electronic protected health information.', 'reg_code': 'AUD', 'label': 'linked'}, {'requirement': 'The system shall provide the ability to record user and date stamp for prescription related events, such as initial creation, renewal, refills, discontinuation, and cancellation of a prescription.', 'regulation': 'Audit Controls. Implement hardware, software, and/or procedural mechanisms that record and examine activity in information systems that contain or use electronic protected health information.', 'reg_code': 'AUD', 'label': 'linked'}, {'requirement': 'When access to a chart is restricted and the break the glass has occurred, the system shall provide the ability to audit this override.', 'regulation': 'Audit Controls. Implement hardware, software, and/or procedural mechanisms that record and examine activity in information systems that contain or use electronic protected health information.', 'reg_code': 'AUD', 'label': 'linked'}, {'requirement': 'The system shall allow an authorized administrator to enable or disable auditing for events or groups of related events to properly collect evidence of compliance with implementation-specific policies.  Note: In response to a HIPAA-mandated risk analysis and management, there will be a variety of implementation-specific organizational policies and operational limits.', 'regulation': 'Audit Controls. Implement hardware, software, and/or procedural mechanisms that record and examine activity in information systems that contain or use electronic protected health information.', 'reg_code': 'AUD', 'label': 'linked'}, {'requirement': 'The system shall be able to detect security-relevant events that it mediates and generate audit records for them. At a minimum the events shall include: start/stop, user login/logout, session timeout, account lockout, patient record created/viewed/updated/deleted, scheduling, query, order, node-authentication failure, signature created/validated, PHI export (e.g. print), PHI import, and security administration events. ', 'regulation': 'Audit Controls. Implement hardware, software, and/or procedural mechanisms that record and examine activity in information systems that contain or use electronic protected health information.', 'reg_code': 'AUD', 'label': 'linked'}, {'requirement': 'The system shall be able to support time synchronization using NTP/SNTP, and use this synchronized time in all security records of time.', 'regulation': 'Audit Controls. Implement hardware, software, and/or procedural mechanisms that record and examine activity in information systems that contain or use electronic protected health information.', 'reg_code': 'AUD', 'label': 'linked'}, {'requirement': 'The system shall protect against further, possibly malicious, user authentication attempts using an appropriate mechanism (e.g. locks the account/node until released by an administrator, locks the account/node for a configurable time period, or delays the next login prompt according to a configurable delay algorithm).', 'regulation': 'Audit Controls. Implement hardware, software, and/or procedural mechanisms that record and examine activity in information systems that contain or use electronic protected health information.', 'reg_code': 'AUD', 'label': 'linked'}, {'requirement': 'The system shall preserve incomplete note version at user log-out events or at elapsed time intervals configurable by the system administrator', 'regulation': 'Audit Controls. Implement hardware, software, and/or procedural mechanisms that record and examine activity in information systems that contain or use electronic protected health information.', 'reg_code': 'AUD', 'label': 'linked'}, {'requirement': 'The system shall provide authorized administrators with the capability to read all audit information from the audit records in one of the following two ways:  1) The system shall provide the audit records in a manner suitable for the user to interpret the information.  The system shall provide the capability to generate reports based on ranges of system date and time that audit records were collected. ....', 'regulation': 'Audit Controls. Implement hardware, software, and/or procedural mechanisms that record and examine activity in information systems that contain or use electronic protected health information.', 'reg_code': 'AUD', 'label': 'linked'}, {'requirement': 'The system shall record within each audit record the following information when it is available: (1) date and time of the event (2) the component of the system (e.g. software component, hardware component) where the event occurred (3) type of event (including: data description and patient identifier when relevant) (4) subject identity (e.g. user identity) and (5) the outcome (success or failure) of the event.', 'regulation': 'Audit Controls. Implement hardware, software, and/or procedural mechanisms that record and examine activity in information systems that contain or use electronic protected health information.', 'reg_code': 'AUD', 'label': 'linked'}, {'requirement': 'The system shall support logging to a common audit engine using the schema and transports specified in the Audit Log specification of IHE Audit Trails and Node Authentication (ATNA) Profile.', 'regulation': 'Audit Controls. Implement hardware, software, and/or procedural mechanisms that record and examine activity in information systems that contain or use electronic protected health information.', 'reg_code': 'AUD', 'label': 'linked'}, {'requirement': 'The system shall support the reconstruction of user steps taken in the documentation of an encounter.  Audit functions shall include capture of multiple authors, successive authors altering prior authored information, interrupted documentation of incomplete notes and additions to or alterations of completed notes.', 'regulation': 'Audit Controls. Implement hardware, software, and/or procedural mechanisms that record and examine activity in information systems that contain or use electronic protected health information.', 'reg_code': 'AUD', 'label': 'linked'}, {'requirement': 'Every transaction that  requests or contains protected health information,  and  is imputed directly to a specific user shall contain an unambiguous ID of the user and any organization IDs that are necessary to ensure that the combination of the IDs identifies a unique user within an HIE', 'regulation': 'Audit Controls. Implement hardware, software, and/or procedural mechanisms that record and examine activity in information systems that contain or use electronic protected health information.', 'reg_code': 'AUD', 'label': 'linked'}, {'requirement': 'S 5.2 The  HIE system shall be able to detect security-relevant events that it mediates and generate audit records for them. At a minimum the events shall include: start/stop, user login/logout, session timeout, account lockout, patient record created/viewed/updated/deleted, scheduling, query, order, node-authentication failure, signature created/validated, PHI export (e.g. print), PHI import, and security administration events. ', 'regulation': 'Audit Controls. Implement hardware, software, and/or procedural mechanisms that record and examine activity in information systems that contain or use electronic protected health information.', 'reg_code': 'AUD', 'label': 'linked'}, {'requirement': 'Security New  -- When interconnecting with other systems, the HIE shall support auditing and logging of activities that occur between the interconnected systems.', 'regulation': 'Audit Controls. Implement hardware, software, and/or procedural mechanisms that record and examine activity in information systems that contain or use electronic protected health information.', 'reg_code': 'AUD', 'label': 'linked'}, {'requirement': 'The HIE shall conduct regular system audits', 'regulation': 'Audit Controls. Implement hardware, software, and/or procedural mechanisms that record and examine activity in information systems that contain or use electronic protected health information.', 'reg_code': 'AUD', 'label': 'linked'}, {'requirement': 'The HIE shall create an audit record of any password changes', 'regulation': 'Audit Controls. Implement hardware, software, and/or procedural mechanisms that record and examine activity in information systems that contain or use electronic protected health information.', 'reg_code': 'AUD', 'label': 'linked'}, {'requirement': 'The system shall audit the receipt of documents and capture and retain the author and source of the document.', 'regulation': 'Audit Controls. Implement hardware, software, and/or procedural mechanisms that record and examine activity in information systems that contain or use electronic protected health information.', 'reg_code': 'AUD', 'label': 'linked'}, {'requirement': 'The system shall provide a traceable and auditable path for the clinical documentation associated and substantiating billing/claim information.', 'regulation': 'Audit Controls. Implement hardware, software, and/or procedural mechanisms that record and examine activity in information systems that contain or use electronic protected health information.', 'reg_code': 'AUD', 'label': 'linked'}, {'requirement': 'The system shall provide the ability to date and time stamp every authentication made in the record.', 'regulation': 'Audit Controls. Implement hardware, software, and/or procedural mechanisms that record and examine activity in information systems that contain or use electronic protected health information.', 'reg_code': 'AUD', 'label': 'linked'}, {'requirement': \"The system shall provide the ability to identify the full content of a modified note, both the original content and the content resulting after any changes, corrections, clarifications, addenda, etc. to a finalized note, and retain amendments and corrections made to the patient's document for edit trail.\", 'regulation': 'Audit Controls. Implement hardware, software, and/or procedural mechanisms that record and examine activity in information systems that contain or use electronic protected health information.', 'reg_code': 'AUD', 'label': 'linked'}, {'requirement': 'The system shall provide the ability to support the management of order sets to track history of updates including date and time.', 'regulation': 'Audit Controls. Implement hardware, software, and/or procedural mechanisms that record and examine activity in information systems that contain or use electronic protected health information.', 'reg_code': 'AUD', 'label': 'linked'}, {'requirement': 'The system shall provide the identity of the user who prints a problem / diagnosis list in an audit report  and this should be retained in the audit trail.', 'regulation': 'Audit Controls. Implement hardware, software, and/or procedural mechanisms that record and examine activity in information systems that contain or use electronic protected health information.', 'reg_code': 'AUD', 'label': 'linked'}, {'requirement': 'The system shall require documentation of the audit support functionality in the vendor provided user guides and other support documentation, including how to identify and retrospectively reconstruct all data elements in the audit log including date, time.', 'regulation': 'Audit Controls. Implement hardware, software, and/or procedural mechanisms that record and examine activity in information systems that contain or use electronic protected health information.', 'reg_code': 'AUD', 'label': 'linked'}, {'requirement': 'The system should provide a way to export allergies that have been entered on the wrong patient into the correct patient record. An audit trail must be created in both the incorrect and correct patient records.', 'regulation': 'Audit Controls. Implement hardware, software, and/or procedural mechanisms that record and examine activity in information systems that contain or use electronic protected health information.', 'reg_code': 'AUD', 'label': 'linked'}, {'requirement': 'The system should provide a way to export medications that have been entered on the wrong patient into the correct patient record. An audit trail must be created in both the incorrect and correct patient records.', 'regulation': 'Audit Controls. Implement hardware, software, and/or procedural mechanisms that record and examine activity in information systems that contain or use electronic protected health information.', 'reg_code': 'AUD', 'label': 'linked'}, {'requirement': 'The system should provide a way to export problems that have been entered on the wrong patient into the correct patient record. An audit trail must be created in both the incorrect and correct patient records.', 'regulation': 'Audit Controls. Implement hardware, software, and/or procedural mechanisms that record and examine activity in information systems that contain or use electronic protected health information.', 'reg_code': 'AUD', 'label': 'linked'}, {'requirement': 'System defines a single set of credentials for each party connecting to the system', 'regulation': 'Audit Controls. Implement hardware, software, and/or procedural mechanisms that record and examine activity in information systems that contain or use electronic protected health information.', 'reg_code': 'AUD', 'label': 'linked'}, {'requirement': 'System has a comprehensive audit log, all actions (read, write, update, delete) are documented as well as the field level changes that occurred in that action. These can then be reviewed on several different axes, patient, user, etc.', 'regulation': 'Audit Controls. Implement hardware, software, and/or procedural mechanisms that record and examine activity in information systems that contain or use electronic protected health information.', 'reg_code': 'AUD', 'label': 'linked'}, {'requirement': 'The audit log records any and all changes including \"deletes\"', 'regulation': 'Audit Controls. Implement hardware, software, and/or procedural mechanisms that record and examine activity in information systems that contain or use electronic protected health information.', 'reg_code': 'AUD', 'label': 'linked'}, {'requirement': 'System tracks user actions.', 'regulation': 'Audit Controls. Implement hardware, software, and/or procedural mechanisms that record and examine activity in information systems that contain or use electronic protected health information.', 'reg_code': 'AUD', 'label': 'linked'}, {'requirement': 'access logging and error handling for data access and exchange.', 'regulation': 'Audit Controls. Implement hardware, software, and/or procedural mechanisms that record and examine activity in information systems that contain or use electronic protected health information.', 'reg_code': 'AUD', 'label': 'linked'}, {'requirement': 'consumer review of disclosure and access logs', 'regulation': 'Audit Controls. Implement hardware, software, and/or procedural mechanisms that record and examine activity in information systems that contain or use electronic protected health information.', 'reg_code': 'AUD', 'label': 'linked'}, {'requirement': 'System will support transaction logs that will include the MID of the editor, transaction type and transaction date', 'regulation': 'Audit Controls. Implement hardware, software, and/or procedural mechanisms that record and examine activity in information systems that contain or use electronic protected health information.', 'reg_code': 'AUD', 'label': 'linked'}, {'requirement': 'System should record a log everytime Enter/edit demographics transaction is performed', 'regulation': 'Audit Controls. Implement hardware, software, and/or procedural mechanisms that record and examine activity in information systems that contain or use electronic protected health information.', 'reg_code': 'AUD', 'label': 'linked'}, {'requirement': 'System should record a log everytime Request biosurveillance transaction is performed', 'regulation': 'Audit Controls. Implement hardware, software, and/or procedural mechanisms that record and examine activity in information systems that contain or use electronic protected health information.', 'reg_code': 'AUD', 'label': 'linked'}, {'requirement': 'System should record a log everytime Medical procedure code transaction is performed', 'regulation': 'Audit Controls. Implement hardware, software, and/or procedural mechanisms that record and examine activity in information systems that contain or use electronic protected health information.', 'reg_code': 'AUD', 'label': 'linked'}, {'requirement': 'System should record a log everytime Drug code transaction is performed', 'regulation': 'Audit Controls. Implement hardware, software, and/or procedural mechanisms that record and examine activity in information systems that contain or use electronic protected health information.', 'reg_code': 'AUD', 'label': 'linked'}, {'requirement': 'System should record a log everytime Identify risk factors transaction is performed', 'regulation': 'Audit Controls. Implement hardware, software, and/or procedural mechanisms that record and examine activity in information systems that contain or use electronic protected health information.', 'reg_code': 'AUD', 'label': 'linked'}, {'requirement': 'System should record a log everytime Cause of Death Trends transaction is performed', 'regulation': 'Audit Controls. Implement hardware, software, and/or procedural mechanisms that record and examine activity in information systems that contain or use electronic protected health information.', 'reg_code': 'AUD', 'label': 'linked'}, {'requirement': 'System should record a log everytime Declare/undeclare personal health representative transaction is performed', 'regulation': 'Audit Controls. Implement hardware, software, and/or procedural mechanisms that record and examine activity in information systems that contain or use electronic protected health information.', 'reg_code': 'AUD', 'label': 'linked'}, {'requirement': 'System should record a log everytime Proactively determine necessary patient care transaction is performed', 'regulation': 'Audit Controls. Implement hardware, software, and/or procedural mechanisms that record and examine activity in information systems that contain or use electronic protected health information.', 'reg_code': 'AUD', 'label': 'linked'}, {'requirement': 'System should record a log everytime Maintain a hospital listing transaction is performed', 'regulation': 'Audit Controls. Implement hardware, software, and/or procedural mechanisms that record and examine activity in information systems that contain or use electronic protected health information.', 'reg_code': 'AUD', 'label': 'linked'}, {'requirement': 'System should record a log everytime View prescription report transaction is performed', 'regulation': 'Audit Controls. Implement hardware, software, and/or procedural mechanisms that record and examine activity in information systems that contain or use electronic protected health information.', 'reg_code': 'AUD', 'label': 'linked'}, {'requirement': 'System should record a log everytime View Hospital Statistics transaction is performed', 'regulation': 'Audit Controls. Implement hardware, software, and/or procedural mechanisms that record and examine activity in information systems that contain or use electronic protected health information.', 'reg_code': 'AUD', 'label': 'linked'}, {'requirement': 'System should record a log everytime View HCP, declare/undeclare LHCP as DLHCP transaction is performed', 'regulation': 'Audit Controls. Implement hardware, software, and/or procedural mechanisms that record and examine activity in information systems that contain or use electronic protected health information.', 'reg_code': 'AUD', 'label': 'linked'}, {'requirement': 'System should record a log everytime View patient comprehensive record transaction is performed', 'regulation': 'Audit Controls. Implement hardware, software, and/or procedural mechanisms that record and examine activity in information systems that contain or use electronic protected health information.', 'reg_code': 'AUD', 'label': 'linked'}, {'requirement': 'System should record a log everytime View emergency report transaction is performed', 'regulation': 'Audit Controls. Implement hardware, software, and/or procedural mechanisms that record and examine activity in information systems that contain or use electronic protected health information.', 'reg_code': 'AUD', 'label': 'linked'}, {'requirement': 'System should record a log everytime Schedule Appointments transaction is performed', 'regulation': 'Audit Controls. Implement hardware, software, and/or procedural mechanisms that record and examine activity in information systems that contain or use electronic protected health information.', 'reg_code': 'AUD', 'label': 'linked'}, {'requirement': 'System should record a log everytime Request Appointment transaction is performed', 'regulation': 'Audit Controls. Implement hardware, software, and/or procedural mechanisms that record and examine activity in information systems that contain or use electronic protected health information.', 'reg_code': 'AUD', 'label': 'linked'}, {'requirement': 'System should record a log everytime Comprehensive Report transaction is performed', 'regulation': 'Audit Controls. Implement hardware, software, and/or procedural mechanisms that record and examine activity in information systems that contain or use electronic protected health information.', 'reg_code': 'AUD', 'label': 'linked'}, {'requirement': 'System should record a log everytime Take Satisfaction Survey transaction is performed', 'regulation': 'Audit Controls. Implement hardware, software, and/or procedural mechanisms that record and examine activity in information systems that contain or use electronic protected health information.', 'reg_code': 'AUD', 'label': 'linked'}, {'requirement': 'System should record a log everytime View physician satisfaction results transaction is performed', 'regulation': 'Audit Controls. Implement hardware, software, and/or procedural mechanisms that record and examine activity in information systems that contain or use electronic protected health information.', 'reg_code': 'AUD', 'label': 'linked'}, {'requirement': 'System should record a log everytime View laboratory procedure results transaction is performed', 'regulation': 'Audit Controls. Implement hardware, software, and/or procedural mechanisms that record and examine activity in information systems that contain or use electronic protected health information.', 'reg_code': 'AUD', 'label': 'linked'}, {'requirement': 'System should record a log everytime View patient list transaction is performed', 'regulation': 'Audit Controls. Implement hardware, software, and/or procedural mechanisms that record and examine activity in information systems that contain or use electronic protected health information.', 'reg_code': 'AUD', 'label': 'linked'}, {'requirement': 'System should record a log everytime Find LHCPs with experience with a diagnosis transaction is performed', 'regulation': 'Audit Controls. Implement hardware, software, and/or procedural mechanisms that record and examine activity in information systems that contain or use electronic protected health information.', 'reg_code': 'AUD', 'label': 'linked'}, {'requirement': 'System should record a log everytime View access log transaction is performed', 'regulation': 'Audit Controls. Implement hardware, software, and/or procedural mechanisms that record and examine activity in information systems that contain or use electronic protected health information.', 'reg_code': 'AUD', 'label': 'linked'}, {'requirement': 'System should record a log everytime Send messages transaction is performed', 'regulation': 'Audit Controls. Implement hardware, software, and/or procedural mechanisms that record and examine activity in information systems that contain or use electronic protected health information.', 'reg_code': 'AUD', 'label': 'linked'}, {'requirement': 'System should record a log everytime Find LHCPs for prescription renewal transaction is performed', 'regulation': 'Audit Controls. Implement hardware, software, and/or procedural mechanisms that record and examine activity in information systems that contain or use electronic protected health information.', 'reg_code': 'AUD', 'label': 'linked'}, {'requirement': 'System should record a log everytime Refer a patient for consultations transaction is performed', 'regulation': 'Audit Controls. Implement hardware, software, and/or procedural mechanisms that record and examine activity in information systems that contain or use electronic protected health information.', 'reg_code': 'AUD', 'label': 'linked'}, {'requirement': 'System should record a log everytime Proactively confirm prescription-renewal transaction is performed', 'regulation': 'Audit Controls. Implement hardware, software, and/or procedural mechanisms that record and examine activity in information systems that contain or use electronic protected health information.', 'reg_code': 'AUD', 'label': 'linked'}, {'requirement': 'Patient must be able to view access log for a specified (by the patient) period of time.', 'regulation': 'Audit Controls. Implement hardware, software, and/or procedural mechanisms that record and examine activity in information systems that contain or use electronic protected health information.', 'reg_code': 'AUD', 'label': 'linked'}, {'requirement': 'System will authenticate user via login and password and check which hospital, department or ward user belongs to', 'regulation': 'Person or entity authentication. Implement procedures to verify that a person or entity seeking access to electronic protected health information is the one claimed.', 'reg_code': 'PA', 'label': 'linked'}, {'requirement': 'The system shall be able to communicate identity information across domains and web services using  standards based user authentication and access control.', 'regulation': 'Person or entity authentication. Implement procedures to verify that a person or entity seeking access to electronic protected health information is the one claimed.', 'reg_code': 'PA', 'label': 'linked'}, {'requirement': 'The system shall authenticate the user before any access to Protected Resources (e.g. PHI) is allowed, including when not connected to a network e.g. mobile devices.', 'regulation': 'Person or entity authentication. Implement procedures to verify that a person or entity seeking access to electronic protected health information is the one claimed.', 'reg_code': 'PA', 'label': 'linked'}, {'requirement': 'The system shall support medical record entries that are dated, the author identified and when necessary according to law or regulation or hospital policy, authenticated, either by written signature, electronic signature or computer key', 'regulation': 'Person or entity authentication. Implement procedures to verify that a person or entity seeking access to electronic protected health information is the one claimed.', 'reg_code': 'PA', 'label': 'linked'}, {'requirement': 'The system shall support two-factor authentication in alignment with NIST 800-63 Level 3 Authentication. Note: The standards in this area are still evolving.', 'regulation': 'Person or entity authentication. Implement procedures to verify that a person or entity seeking access to electronic protected health information is the one claimed.', 'reg_code': 'PA', 'label': 'linked'}, {'requirement': 'When passwords are used, the system shall allow an authenticated user to change their password consistent with password strength rules (SC 03.02).', 'regulation': 'Person or entity authentication. Implement procedures to verify that a person or entity seeking access to electronic protected health information is the one claimed.', 'reg_code': 'PA', 'label': 'linked'}, {'requirement': 'When passwords are used, the system shall not display passwords while being entered.', 'regulation': 'Person or entity authentication. Implement procedures to verify that a person or entity seeking access to electronic protected health information is the one claimed.', 'reg_code': 'PA', 'label': 'linked'}, {'requirement': 'When passwords are used, the system shall prevent the reuse of passwords previously used within a specific (configurable) timeframe (i.e., within the last X days, etc. - e.g. last 180 days), or shall prevent the reuse of a certain (configurable) number of the most recently used passwords (e.g. last 5 passwords).', 'regulation': 'Person or entity authentication. Implement procedures to verify that a person or entity seeking access to electronic protected health information is the one claimed.', 'reg_code': 'PA', 'label': 'linked'}, {'requirement': 'When passwords are used, the system shall provide an administrative function that resets passwords.', 'regulation': 'Person or entity authentication. Implement procedures to verify that a person or entity seeking access to electronic protected health information is the one claimed.', 'reg_code': 'PA', 'label': 'linked'}, {'requirement': 'When passwords are used, the system shall support case-sensitive passwords that contain typeable alpha-numeric characters in support of ISO-646/ECMA-6 (aka US ASCII).', 'regulation': 'Person or entity authentication. Implement procedures to verify that a person or entity seeking access to electronic protected health information is the one claimed.', 'reg_code': 'PA', 'label': 'linked'}, {'requirement': 'When passwords are used, the system shall support password strength rules that allow for minimum number of characters, and inclusion of alpha-numeric complexity.', 'regulation': 'Person or entity authentication. Implement procedures to verify that a person or entity seeking access to electronic protected health information is the one claimed.', 'reg_code': 'PA', 'label': 'linked'}, {'requirement': 'When passwords are used, user accounts that have been reset by an administrator shall require the user to change the password at next successful logon.', 'regulation': 'Person or entity authentication. Implement procedures to verify that a person or entity seeking access to electronic protected health information is the one claimed.', 'reg_code': 'PA', 'label': 'linked'}, {'requirement': 'The HIE shall provide a means to add a system and its associated certificate to the list of authorized systems that may access information through the HIE (consistent with HITSP C19)', 'regulation': 'Person or entity authentication. Implement procedures to verify that a person or entity seeking access to electronic protected health information is the one claimed.', 'reg_code': 'PA', 'label': 'linked'}, {'requirement': 'System must support password authentication', 'regulation': 'Person or entity authentication. Implement procedures to verify that a person or entity seeking access to electronic protected health information is the one claimed.', 'reg_code': 'PA', 'label': 'linked'}, {'requirement': 'System will require medical identification number and password to allow logging in', 'regulation': 'Person or entity authentication. Implement procedures to verify that a person or entity seeking access to electronic protected health information is the one claimed.', 'reg_code': 'PA', 'label': 'linked'}, {'requirement': 'System will prevent user from trying to guess a password or enter incorrect password multiple times when logging in', 'regulation': 'Person or entity authentication. Implement procedures to verify that a person or entity seeking access to electronic protected health information is the one claimed.', 'reg_code': 'PA', 'label': 'linked'}, {'requirement': 'System will allow the user to reset his/her password using a security question', 'regulation': 'Person or entity authentication. Implement procedures to verify that a person or entity seeking access to electronic protected health information is the one claimed.', 'reg_code': 'PA', 'label': 'linked'}, {'requirement': 'System will send an email alert to iTrust user who changed his/her password', 'regulation': 'Person or entity authentication. Implement procedures to verify that a person or entity seeking access to electronic protected health information is the one claimed.', 'reg_code': 'PA', 'label': 'linked'}, {'requirement': \"System will generate a secret key - patient's initial password\", 'regulation': 'Person or entity authentication. Implement procedures to verify that a person or entity seeking access to electronic protected health information is the one claimed.', 'reg_code': 'PA', 'label': 'linked'}, {'requirement': 'The system provides patients with a unique login and password.', 'regulation': 'Person or entity authentication. Implement procedures to verify that a person or entity seeking access to electronic protected health information is the one claimed.', 'reg_code': 'PA', 'label': 'linked'}, {'requirement': 'The system must identify the user.', 'regulation': 'Person or entity authentication. Implement procedures to verify that a person or entity seeking access to electronic protected health information is the one claimed.', 'reg_code': 'PA', 'label': 'linked'}, {'requirement': 'The system must require a password only if the system has been logged out automatically.', 'regulation': 'Person or entity authentication. Implement procedures to verify that a person or entity seeking access to electronic protected health information is the one claimed.', 'reg_code': 'PA', 'label': 'linked'}, {'requirement': 'The system must check that only authorized users have access to systems and data.', 'regulation': 'Person or entity authentication. Implement procedures to verify that a person or entity seeking access to electronic protected health information is the one claimed.', 'reg_code': 'PA', 'label': 'linked'}, {'requirement': 'The system must protect against unauthorized persons obtaining manager rights through the internet.', 'regulation': 'Person or entity authentication. Implement procedures to verify that a person or entity seeking access to electronic protected health information is the one claimed.', 'reg_code': 'PA', 'label': 'linked'}, {'requirement': 'The system must protect against wire-tapping of passwords.', 'regulation': 'Person or entity authentication. Implement procedures to verify that a person or entity seeking access to electronic protected health information is the one claimed.', 'reg_code': 'PA', 'label': 'linked'}, {'requirement': 'The system shall allow setting of business rules, document types, user classes, etc. to control access to documents, reports, verification, signing, and so on', 'regulation': 'Person or entity authentication. Implement procedures to verify that a person or entity seeking access to electronic protected health information is the one claimed.', 'reg_code': 'PA', 'label': 'linked'}, {'requirement': 'The system shall provide a method for identifying who is AUTHORIZED to do something (for example, sign and order).', 'regulation': 'Person or entity authentication. Implement procedures to verify that a person or entity seeking access to electronic protected health information is the one claimed.', 'reg_code': 'PA', 'label': 'linked'}, {'requirement': 'The system shall allow document types to inherit authorizations from a higher level when using classes to assign roles.', 'regulation': 'Person or entity authentication. Implement procedures to verify that a person or entity seeking access to electronic protected health information is the one claimed.', 'reg_code': 'PA', 'label': 'linked'}, {'requirement': 'The system shall indicate that the record is sensitive and may only be viewed by authorized users.', 'regulation': 'Person or entity authentication. Implement procedures to verify that a person or entity seeking access to electronic protected health information is the one claimed.', 'reg_code': 'PA', 'label': 'linked'}, {'requirement': 'Authenticate to locator service', 'regulation': 'Person or entity authentication. Implement procedures to verify that a person or entity seeking access to electronic protected health information is the one claimed.', 'reg_code': 'PA', 'label': 'linked'}, {'requirement': 'methods to identify and authenticate users.', 'regulation': 'Person or entity authentication. Implement procedures to verify that a person or entity seeking access to electronic protected health information is the one claimed.', 'reg_code': 'PA', 'label': 'linked'}, {'requirement': 'methods to identify and determine providers of care.', 'regulation': 'Person or entity authentication. Implement procedures to verify that a person or entity seeking access to electronic protected health information is the one claimed.', 'reg_code': 'PA', 'label': 'linked'}, {'requirement': 'Authentication and verification may be provided through community or regional services. This may include a trust relationship whereby the clinician is authenticated and authorized once by the community or regional service.', 'regulation': 'Person or entity authentication. Implement procedures to verify that a person or entity seeking access to electronic protected health information is the one claimed.', 'reg_code': 'PA', 'label': 'linked'}, {'requirement': 'The authentication and verification is then carried through the query/retrieval processes.', 'regulation': 'Person or entity authentication. Implement procedures to verify that a person or entity seeking access to electronic protected health information is the one claimed.', 'reg_code': 'PA', 'label': 'linked'}, {'requirement': 'System will support optional SSL encryption', 'regulation': 'Encryption. Implement a mechanism to encrypt electronic protected health information whenever deemed appropriate.', 'reg_code': 'SED', 'label': 'linked'}, {'requirement': 'The system, when storing PHI on any device intended to be portable/removable (e.g. thumb-drives, CD-ROM, PDA, Notebook), shall support use of a standards based encrypted format using triple-DES (3DES), or the Advanced Encryption Standard (AES), or their successors.', 'regulation': 'Encryption. Implement a mechanism to encrypt electronic protected health information whenever deemed appropriate.', 'reg_code': 'SED', 'label': 'linked'}, {'requirement': 'When passwords are used, the system shall use either standards-based encryption, e.g., 3DES, AES, or standards-based hashing, e.g., SHA1 to store or transport passwords.', 'regulation': 'Encryption. Implement a mechanism to encrypt electronic protected health information whenever deemed appropriate.', 'reg_code': 'SED', 'label': 'linked'}, {'requirement': 'All data is required to be encrypted using SSL (TLS).', 'regulation': 'Encryption. Implement a mechanism to encrypt electronic protected health information whenever deemed appropriate.', 'reg_code': 'SED', 'label': 'linked'}, {'requirement': 'The database can be encrypted', 'regulation': 'Encryption. Implement a mechanism to encrypt electronic protected health information whenever deemed appropriate.', 'reg_code': 'SED', 'label': 'linked'}, {'requirement': 'SSL shall be used to encrypt the communication between the client and the server.', 'regulation': 'Encryption. Implement a mechanism to encrypt electronic protected health information whenever deemed appropriate.', 'reg_code': 'SED', 'label': 'linked'}, {'requirement': 'System will support optional SSL encryption', 'regulation': 'Encryption and decryption. Implement a mechanism to encrypt and decrypt electronic protected health information.', 'reg_code': 'TED', 'label': 'linked'}, {'requirement': 'The system shall support protection of confidentiality of all Protected Health Information (PHI) delivered over the Internet or other known open networks via encryption using triple-DES (3DES) or the Advanced Encryption Standard (AES) and an open protocol such as TLS, SSL, IPSec, XML encryptions, or S/MIME or their successors.', 'regulation': 'Encryption and decryption. Implement a mechanism to encrypt and decrypt electronic protected health information.', 'reg_code': 'TED', 'label': 'linked'}, {'requirement': 'The system shall support protection of integrity of all Protected Health Information (PHI) delivered over the Internet or other known open networks via SHA1 hashing and an open protocol such as TLS, SSL, IPSec, XML digital signature, or S/MIME or their successors.', 'regulation': 'Encryption and decryption. Implement a mechanism to encrypt and decrypt electronic protected health information.', 'reg_code': 'TED', 'label': 'linked'}, {'requirement': 'everything is transmitted over SSL which offer encryption but also hashes to prevent modification in transit.', 'regulation': 'Encryption and decryption. Implement a mechanism to encrypt and decrypt electronic protected health information.', 'reg_code': 'TED', 'label': 'linked'}, {'requirement': 'SSL shall be used to encrypt the communication between the client and the server.', 'regulation': 'Encryption and decryption. Implement a mechanism to encrypt and decrypt electronic protected health information.', 'reg_code': 'TED', 'label': 'linked'}, {'requirement': 'When access to a chart is restricted, the system shall provide a means for appropriately authorized users to break the glass for emergency situations.', 'regulation': 'Emergency access procedure. Establish (and implement as needed) procedures for obtaining necessary electronic protected health information during an emergency.', 'reg_code': 'EAP', 'label': 'linked'}, {'requirement': 'Emergency access   including capabilities to support appropriate individual and population emergency access needs. Capability to enable access to health information in extra-ordinary situations during which an individual may need emergency care but due to their health status is incapable of granting access permissions, or in the case of a public health emergency during which the health status of a population needs to be determined.', 'regulation': 'Emergency access procedure. Establish (and implement as needed) procedures for obtaining necessary electronic protected health information during an emergency.', 'reg_code': 'EAP', 'label': 'linked'}, {'requirement': 'In emergency situations, public health officials may need to access an individual s health information in order to identify populations or specific individuals at-risk.', 'regulation': 'Emergency access procedure. Establish (and implement as needed) procedures for obtaining necessary electronic protected health information during an emergency.', 'reg_code': 'EAP', 'label': 'linked'}, {'requirement': 'A customized workflow can be created to provide emergency access to electronic PHI during an emergency.', 'regulation': 'Emergency access procedure. Establish (and implement as needed) procedures for obtaining necessary electronic protected health information during an emergency.', 'reg_code': 'EAP', 'label': 'linked'}, {'requirement': 'The system shall associate (store and link) key identifier information (e.g., system ID, medical record number) with each patient record.', 'regulation': 'Integrity controls. Implement security measures to ensure that electronically transmitted electronic protected health information is not improperly modified without detection until disposed of.', 'reg_code': 'IC', 'label': 'linked'}, {'requirement': 'The system shall provide the ability to retain data until otherwise purged, deleted, archived or otherwise deliberately removed.', 'regulation': 'Integrity controls. Implement security measures to ensure that electronically transmitted electronic protected health information is not improperly modified without detection until disposed of.', 'reg_code': 'IC', 'label': 'linked'}, {'requirement': 'The system shall provide the ability to store more than one identifier for each patient record.', 'regulation': 'Integrity controls. Implement security measures to ensure that electronically transmitted electronic protected health information is not improperly modified without detection until disposed of.', 'reg_code': 'IC', 'label': 'linked'}, {'requirement': 'The system shall present a set of patient identifying information at each interaction with the patient record, including, at a minimum, patient name, medical record number, gender and date of birth.', 'regulation': 'Integrity controls. Implement security measures to ensure that electronically transmitted electronic protected health information is not improperly modified without detection until disposed of.', 'reg_code': 'IC', 'label': 'linked'}, {'requirement': 'The system shall provide the ability to addend and/or correct notes that have been finalized, and shall retain all original documentation.  Nothing is deleted, and is all retained in audit trails and metadata.', 'regulation': 'Integrity controls. Implement security measures to ensure that electronically transmitted electronic protected health information is not improperly modified without detection until disposed of.', 'reg_code': 'IC', 'label': 'linked'}, {'requirement': 'The credentials system employs a standards compliant RBAC model so each user has permissions appropriate to their role', 'regulation': 'Integrity controls. Implement security measures to ensure that electronically transmitted electronic protected health information is not improperly modified without detection until disposed of.', 'reg_code': 'IC', 'label': 'linked'}, {'requirement': 'System doesn\\'t allow you to delete any health information, though certain objects can be \"marked as deleted\" though still present in the underlying data set', 'regulation': 'Integrity controls. Implement security measures to ensure that electronically transmitted electronic protected health information is not improperly modified without detection until disposed of.', 'reg_code': 'IC', 'label': 'linked'}, {'requirement': 'data integrity and non-repudiation checking.', 'regulation': 'Integrity controls. Implement security measures to ensure that electronically transmitted electronic protected health information is not improperly modified without detection until disposed of.', 'reg_code': 'IC', 'label': 'linked'}, {'requirement': 'Incomplete, inaccurate, or proprietarily-formatted information prevents efficient health information exchange activities or utilization of electronic health information.', 'regulation': 'Integrity controls. Implement security measures to ensure that electronically transmitted electronic protected health information is not improperly modified without detection until disposed of.', 'reg_code': 'IC', 'label': 'linked'}, {'requirement': 'Without data standards that promote compatibility and interoperability, longitudinal patient medical records may be incomplete or of questionable integrity.', 'regulation': 'Integrity controls. Implement security measures to ensure that electronically transmitted electronic protected health information is not improperly modified without detection until disposed of.', 'reg_code': 'IC', 'label': 'linked'}, {'requirement': 'The system shall prevent the creating of duplicate patient records.', 'regulation': 'Integrity controls. Implement security measures to ensure that electronically transmitted electronic protected health information is not improperly modified without detection until disposed of.', 'reg_code': 'IC', 'label': 'linked'}, {'requirement': 'The system must protect against concurrency problems.', 'regulation': 'Integrity controls. Implement security measures to ensure that electronically transmitted electronic protected health information is not improperly modified without detection until disposed of.', 'reg_code': 'IC', 'label': 'linked'}, {'requirement': 'The system must check all data for format, consistency and validity.', 'regulation': 'Integrity controls. Implement security measures to ensure that electronically transmitted electronic protected health information is not improperly modified without detection until disposed of.', 'reg_code': 'IC', 'label': 'linked'}, {'requirement': 'The system must warn the user if format, consistency or validity are in doubt.', 'regulation': 'Integrity controls. Implement security measures to ensure that electronically transmitted electronic protected health information is not improperly modified without detection until disposed of.', 'reg_code': 'IC', 'label': 'linked'}, {'requirement': 'Send acknowledgment to laboratory that integrity, authenticity and completeness of results are found.', 'regulation': 'Integrity controls. Implement security measures to ensure that electronically transmitted electronic protected health information is not improperly modified without detection until disposed of.', 'reg_code': 'IC', 'label': 'linked'}, {'requirement': 'The system shall ensure secure electronic messaging with patients', 'regulation': 'Transmission security. Implement technical security measures to guard against unauthorized access to electronic protected health information that is being transmitted over an electronic communications network.', 'reg_code': 'TS', 'label': 'linked'}, {'requirement': 'For systems that provide access to PHI through a web browser interface (i.e. HTML over HTTP) shall include the capability to encrypt the data communicated over the network via SSL (HTML over HTTPS). Note: Web browser interfaces are often used beyond the perimeter of the protected enterprise network', 'regulation': 'Transmission security. Implement technical security measures to guard against unauthorized access to electronic protected health information that is being transmitted over an electronic communications network.', 'reg_code': 'TS', 'label': 'linked'}, {'requirement': 'Data delivery   including secure data delivery, data receipt and confirmation of delivery to EHRs, personally controlled health records, other systems and networks. Capability to securely deliver data to the intended recipient, confirm delivery, including the ability to route data based on message content, if required. For example, the request for consultation is delivered to the consulting clinician along with relevant clinical information.', 'regulation': 'Transmission security. Implement technical security measures to guard against unauthorized access to electronic protected health information that is being transmitted over an electronic communications network.', 'reg_code': 'TS', 'label': 'linked'}, {'requirement': 'SSL shall be used to encrypt the communication between the client and the server.', 'regulation': 'Transmission security. Implement technical security measures to guard against unauthorized access to electronic protected health information that is being transmitted over an electronic communications network.', 'reg_code': 'TS', 'label': 'linked'}, {'requirement': 'The system shall have a secure message capability whereby patients can send messages to the practice and vice versa.', 'regulation': 'Transmission security. Implement technical security measures to guard against unauthorized access to electronic protected health information that is being transmitted over an electronic communications network.', 'reg_code': 'TS', 'label': 'linked'}, {'requirement': 'Secure electronic transport and consent as defined by the HITSP security and privacy constructs is assumed between sender(s) and receiver(s)', 'regulation': 'Transmission security. Implement technical security measures to guard against unauthorized access to electronic protected health information that is being transmitted over an electronic communications network.', 'reg_code': 'TS', 'label': 'linked'}, {'requirement': 'For every participating organization (a business entity that participates in the HIE) that provides or obtains protected health information enabled by the HIE, the HIE shall ensure that there is a unique ID  that identifies that organization.  (As specified in HITSP constructs, unique entity identification is done by locally unique identifier and a globally unique entity identifier, i.e., ISO OID)', 'regulation': 'Unique user identification. Assign a unique name and/or number for identifying and tracking user identity.', 'reg_code': 'UUI', 'label': 'linked'}, {'requirement': 'When sending user identity information between HIEs, both the HIE identifier and the unique user identity within the sending HIE must be used to ensure uniqueness between HIEs.', 'regulation': 'Unique user identification. Assign a unique name and/or number for identifying and tracking user identity.', 'reg_code': 'UUI', 'label': 'linked'}, {'requirement': 'The system shall support the use of the National Provider Identifier or NPI in the EHR audit log to identify the individual provider or, in situations when an NPI is not available for an individual, a single unique internal provider identifier is assigned.', 'regulation': 'Unique user identification. Assign a unique name and/or number for identifying and tracking user identity.', 'reg_code': 'UUI', 'label': 'linked'}, {'requirement': 'System defines a single set of credentials for each party connecting to the system', 'regulation': 'Unique user identification. Assign a unique name and/or number for identifying and tracking user identity.', 'reg_code': 'UUI', 'label': 'linked'}, {'requirement': 'System will generate a unique Medical User Identification number', 'regulation': 'Unique user identification. Assign a unique name and/or number for identifying and tracking user identity.', 'reg_code': 'UUI', 'label': 'linked'}, {'requirement': 'System will identify patient by his/her unique Medical identification number (MID)', 'regulation': 'Unique user identification. Assign a unique name and/or number for identifying and tracking user identity.', 'reg_code': 'UUI', 'label': 'linked'}, {'requirement': 'The database enforces a unique username using Lightweight Directory Access Protocol (LDAP) for authentication.', 'regulation': 'Unique user identification. Assign a unique name and/or number for identifying and tracking user identity.', 'reg_code': 'UUI', 'label': 'linked'}, {'requirement': 'The systems must require each user to have only one user name  and one password.', 'regulation': 'Unique user identification. Assign a unique name and/or number for identifying and tracking user identity.', 'reg_code': 'UUI', 'label': 'linked'}, {'requirement': 'The system shall allow physician offices to use social security numbers or medical record numbers to identify patients.', 'regulation': 'Unique user identification. Assign a unique name and/or number for identifying and tracking user identity.', 'reg_code': 'UUI', 'label': 'linked'}, {'requirement': 'The secrecy of the content is maintained during transmission.', 'regulation': 'Audit Controls. Implement hardware, software, and/or procedural mechanisms that record and examine activity in information systems that contain or use electronic protected health information.', 'reg_code': 'AUD', 'label': 'not_linked'}, {'requirement': 'The secrecy of the content is maintained during transmission.', 'regulation': 'Transmission security. Implement technical security measures to guard against unauthorized access to electronic protected health information that is being transmitted over an electronic communications network.', 'reg_code': 'TS', 'label': 'not_linked'}, {'requirement': 'The secrecy of the content is maintained during transmission.', 'regulation': 'Access Control. Implement technical policies and procedures for electronic information systems that maintain electronic protected health information to allow access only to those persons or software programs that have been granted access rights as specified in ? 164.308(a)(4).', 'reg_code': 'AC', 'label': 'not_linked'}, {'requirement': 'The secrecy of the content is maintained during transmission.', 'regulation': 'Automatic logoff. Implement electronic procedures that terminate an electronic session after a predetermined time of inactivity.', 'reg_code': 'AL', 'label': 'not_linked'}, {'requirement': 'The secrecy of the content is maintained during transmission.', 'regulation': 'Automatic logoff. Implement electronic procedures that terminate an electronic session after a predetermined time of inactivity.', 'reg_code': 'AL', 'label': 'not_linked'}, {'requirement': 'The secrecy of the content is maintained during transmission.', 'regulation': 'Encryption and decryption. Implement a mechanism to encrypt and decrypt electronic protected health information.', 'reg_code': 'TED', 'label': 'not_linked'}, {'requirement': 'The secrecy of the content is maintained during transmission.', 'regulation': 'Encryption and decryption. Implement a mechanism to encrypt and decrypt electronic protected health information.', 'reg_code': 'TED', 'label': 'not_linked'}, {'requirement': 'The secrecy of the content is maintained during transmission.', 'regulation': 'Access Control. Implement technical policies and procedures for electronic information systems that maintain electronic protected health information to allow access only to those persons or software programs that have been granted access rights as specified in ? 164.308(a)(4).', 'reg_code': 'AC', 'label': 'not_linked'}, {'requirement': 'The secrecy of the content is maintained during transmission.', 'regulation': 'Emergency access procedure. Establish (and implement as needed) procedures for obtaining necessary electronic protected health information during an emergency.', 'reg_code': 'EAP', 'label': 'not_linked'}, {'requirement': 'The secrecy of the content is maintained during transmission.', 'regulation': 'Access Control. Implement technical policies and procedures for electronic information systems that maintain electronic protected health information to allow access only to those persons or software programs that have been granted access rights as specified in ? 164.308(a)(4).', 'reg_code': 'AC', 'label': 'not_linked'}, {'requirement': 'The secrecy of the content is maintained during transmission.', 'regulation': 'Person or entity authentication. Implement procedures to verify that a person or entity seeking access to electronic protected health information is the one claimed.', 'reg_code': 'PA', 'label': 'not_linked'}, {'requirement': 'The secrecy of the content is maintained during transmission.', 'regulation': 'Emergency access procedure. Establish (and implement as needed) procedures for obtaining necessary electronic protected health information during an emergency.', 'reg_code': 'EAP', 'label': 'not_linked'}, {'requirement': 'The secrecy of the content is maintained during transmission.', 'regulation': 'Emergency access procedure. Establish (and implement as needed) procedures for obtaining necessary electronic protected health information during an emergency.', 'reg_code': 'EAP', 'label': 'not_linked'}, {'requirement': 'The secrecy of the content is maintained during transmission.', 'regulation': 'Unique user identification. Assign a unique name and/or number for identifying and tracking user identity.', 'reg_code': 'UUI', 'label': 'not_linked'}, {'requirement': 'The secrecy of the content is maintained during transmission.', 'regulation': 'Unique user identification. Assign a unique name and/or number for identifying and tracking user identity.', 'reg_code': 'UUI', 'label': 'not_linked'}, {'requirement': 'The secrecy of the content is maintained during transmission.', 'regulation': 'Access Control. Implement technical policies and procedures for electronic information systems that maintain electronic protected health information to allow access only to those persons or software programs that have been granted access rights as specified in ? 164.308(a)(4).', 'reg_code': 'AC', 'label': 'not_linked'}, {'requirement': 'The secrecy of the content is maintained during transmission.', 'regulation': 'Encryption. Implement a mechanism to encrypt electronic protected health information whenever deemed appropriate.', 'reg_code': 'SED', 'label': 'not_linked'}, {'requirement': 'The secrecy of the content is maintained during transmission.', 'regulation': 'Encryption and decryption. Implement a mechanism to encrypt and decrypt electronic protected health information.', 'reg_code': 'TED', 'label': 'not_linked'}, {'requirement': 'The secrecy of the content is maintained during transmission.', 'regulation': 'Person or entity authentication. Implement procedures to verify that a person or entity seeking access to electronic protected health information is the one claimed.', 'reg_code': 'PA', 'label': 'not_linked'}, {'requirement': 'The secrecy of the content is maintained during transmission.', 'regulation': 'Automatic logoff. Implement electronic procedures that terminate an electronic session after a predetermined time of inactivity.', 'reg_code': 'AL', 'label': 'not_linked'}, {'requirement': 'The secrecy of the content is maintained during transmission.', 'regulation': 'Person or entity authentication. Implement procedures to verify that a person or entity seeking access to electronic protected health information is the one claimed.', 'reg_code': 'PA', 'label': 'not_linked'}, {'requirement': 'The secrecy of the content is maintained during transmission.', 'regulation': 'Access Control. Implement technical policies and procedures for electronic information systems that maintain electronic protected health information to allow access only to those persons or software programs that have been granted access rights as specified in ? 164.308(a)(4).', 'reg_code': 'AC', 'label': 'not_linked'}, {'requirement': 'The secrecy of the content is maintained during transmission.', 'regulation': 'Unique user identification. Assign a unique name and/or number for identifying and tracking user identity.', 'reg_code': 'UUI', 'label': 'not_linked'}, {'requirement': 'The secrecy of the content is maintained during transmission.', 'regulation': 'Automatic logoff. Implement electronic procedures that terminate an electronic session after a predetermined time of inactivity.', 'reg_code': 'AL', 'label': 'not_linked'}, {'requirement': 'The secrecy of the content is maintained during transmission.', 'regulation': 'Unique user identification. Assign a unique name and/or number for identifying and tracking user identity.', 'reg_code': 'UUI', 'label': 'not_linked'}, {'requirement': 'The secrecy of the content is maintained during transmission.', 'regulation': 'Audit Controls. Implement hardware, software, and/or procedural mechanisms that record and examine activity in information systems that contain or use electronic protected health information.', 'reg_code': 'AUD', 'label': 'not_linked'}, {'requirement': 'The secrecy of the content is maintained during transmission.', 'regulation': 'Encryption. Implement a mechanism to encrypt electronic protected health information whenever deemed appropriate.', 'reg_code': 'SED', 'label': 'not_linked'}, {'requirement': 'The secrecy of the content is maintained during transmission.', 'regulation': 'Person or entity authentication. Implement procedures to verify that a person or entity seeking access to electronic protected health information is the one claimed.', 'reg_code': 'PA', 'label': 'not_linked'}, {'requirement': 'The secrecy of the content is maintained during transmission.', 'regulation': 'Access Control. Implement technical policies and procedures for electronic information systems that maintain electronic protected health information to allow access only to those persons or software programs that have been granted access rights as specified in ? 164.308(a)(4).', 'reg_code': 'AC', 'label': 'not_linked'}, {'requirement': 'The secrecy of the content is maintained during transmission.', 'regulation': 'Access Control. Implement technical policies and procedures for electronic information systems that maintain electronic protected health information to allow access only to those persons or software programs that have been granted access rights as specified in ? 164.308(a)(4).', 'reg_code': 'AC', 'label': 'not_linked'}, {'requirement': 'The secrecy of the content is maintained during transmission.', 'regulation': 'Transmission security. Implement technical security measures to guard against unauthorized access to electronic protected health information that is being transmitted over an electronic communications network.', 'reg_code': 'TS', 'label': 'not_linked'}, {'requirement': 'The secrecy of the content is maintained during transmission.', 'regulation': 'Integrity controls. Implement security measures to ensure that electronically transmitted electronic protected health information is not improperly modified without detection until disposed of.', 'reg_code': 'IC', 'label': 'not_linked'}, {'requirement': 'The secrecy of the content is maintained during transmission.', 'regulation': 'Integrity controls. Implement security measures to ensure that electronically transmitted electronic protected health information is not improperly modified without detection until disposed of.', 'reg_code': 'IC', 'label': 'not_linked'}, {'requirement': 'The secrecy of the content is maintained during transmission.', 'regulation': 'Integrity controls. Implement security measures to ensure that electronically transmitted electronic protected health information is not improperly modified without detection until disposed of.', 'reg_code': 'IC', 'label': 'not_linked'}, {'requirement': 'The secrecy of the content is maintained during transmission.', 'regulation': 'Access Control. Implement technical policies and procedures for electronic information systems that maintain electronic protected health information to allow access only to those persons or software programs that have been granted access rights as specified in ? 164.308(a)(4).', 'reg_code': 'AC', 'label': 'not_linked'}, {'requirement': 'The secrecy of the content is maintained during transmission.', 'regulation': 'Person or entity authentication. Implement procedures to verify that a person or entity seeking access to electronic protected health information is the one claimed.', 'reg_code': 'PA', 'label': 'not_linked'}, {'requirement': 'The secrecy of the content is maintained during transmission.', 'regulation': 'Transmission security. Implement technical security measures to guard against unauthorized access to electronic protected health information that is being transmitted over an electronic communications network.', 'reg_code': 'TS', 'label': 'not_linked'}, {'requirement': 'The secrecy of the content is maintained during transmission.', 'regulation': 'Automatic logoff. Implement electronic procedures that terminate an electronic session after a predetermined time of inactivity.', 'reg_code': 'AL', 'label': 'not_linked'}, {'requirement': 'The secrecy of the content is maintained during transmission.', 'regulation': 'Person or entity authentication. Implement procedures to verify that a person or entity seeking access to electronic protected health information is the one claimed.', 'reg_code': 'PA', 'label': 'not_linked'}, {'requirement': 'The secrecy of the content is maintained during transmission.', 'regulation': 'Encryption and decryption. Implement a mechanism to encrypt and decrypt electronic protected health information.', 'reg_code': 'TED', 'label': 'not_linked'}, {'requirement': 'The secrecy of the content is maintained during transmission.', 'regulation': 'Integrity controls. Implement security measures to ensure that electronically transmitted electronic protected health information is not improperly modified without detection until disposed of.', 'reg_code': 'IC', 'label': 'not_linked'}, {'requirement': 'The secrecy of the content is maintained during transmission.', 'regulation': 'Transmission security. Implement technical security measures to guard against unauthorized access to electronic protected health information that is being transmitted over an electronic communications network.', 'reg_code': 'TS', 'label': 'not_linked'}, {'requirement': 'The secrecy of the content is maintained during transmission.', 'regulation': 'Audit Controls. Implement hardware, software, and/or procedural mechanisms that record and examine activity in information systems that contain or use electronic protected health information.', 'reg_code': 'AUD', 'label': 'not_linked'}, {'requirement': 'The secrecy of the content is maintained during transmission.', 'regulation': 'Automatic logoff. Implement electronic procedures that terminate an electronic session after a predetermined time of inactivity.', 'reg_code': 'AL', 'label': 'not_linked'}, {'requirement': 'The secrecy of the content is maintained during transmission.', 'regulation': 'Person or entity authentication. Implement procedures to verify that a person or entity seeking access to electronic protected health information is the one claimed.', 'reg_code': 'PA', 'label': 'not_linked'}, {'requirement': 'The secrecy of the content is maintained during transmission.', 'regulation': 'Audit Controls. Implement hardware, software, and/or procedural mechanisms that record and examine activity in information systems that contain or use electronic protected health information.', 'reg_code': 'AUD', 'label': 'not_linked'}, {'requirement': 'The secrecy of the content is maintained during transmission.', 'regulation': 'Encryption and decryption. Implement a mechanism to encrypt and decrypt electronic protected health information.', 'reg_code': 'TED', 'label': 'not_linked'}, {'requirement': 'The secrecy of the content is maintained during transmission.', 'regulation': 'Automatic logoff. Implement electronic procedures that terminate an electronic session after a predetermined time of inactivity.', 'reg_code': 'AL', 'label': 'not_linked'}, {'requirement': 'The secrecy of the content is maintained during transmission.', 'regulation': 'Person or entity authentication. Implement procedures to verify that a person or entity seeking access to electronic protected health information is the one claimed.', 'reg_code': 'PA', 'label': 'not_linked'}, {'requirement': 'The secrecy of the content is maintained during transmission.', 'regulation': 'Access Control. Implement technical policies and procedures for electronic information systems that maintain electronic protected health information to allow access only to those persons or software programs that have been granted access rights as specified in ? 164.308(a)(4).', 'reg_code': 'AC', 'label': 'not_linked'}, {'requirement': 'The secrecy of the content is maintained during transmission.', 'regulation': 'Emergency access procedure. Establish (and implement as needed) procedures for obtaining necessary electronic protected health information during an emergency.', 'reg_code': 'EAP', 'label': 'not_linked'}, {'requirement': 'The secrecy of the content is maintained during transmission.', 'regulation': 'Automatic logoff. Implement electronic procedures that terminate an electronic session after a predetermined time of inactivity.', 'reg_code': 'AL', 'label': 'not_linked'}, {'requirement': 'The secrecy of the content is maintained during transmission.', 'regulation': 'Automatic logoff. Implement electronic procedures that terminate an electronic session after a predetermined time of inactivity.', 'reg_code': 'AL', 'label': 'not_linked'}, {'requirement': 'The secrecy of the content is maintained during transmission.', 'regulation': 'Unique user identification. Assign a unique name and/or number for identifying and tracking user identity.', 'reg_code': 'UUI', 'label': 'not_linked'}, {'requirement': 'The secrecy of the content is maintained during transmission.', 'regulation': 'Access Control. Implement technical policies and procedures for electronic information systems that maintain electronic protected health information to allow access only to those persons or software programs that have been granted access rights as specified in ? 164.308(a)(4).', 'reg_code': 'AC', 'label': 'not_linked'}, {'requirement': 'The secrecy of the content is maintained during transmission.', 'regulation': 'Encryption and decryption. Implement a mechanism to encrypt and decrypt electronic protected health information.', 'reg_code': 'TED', 'label': 'not_linked'}, {'requirement': 'The secrecy of the content is maintained during transmission.', 'regulation': 'Emergency access procedure. Establish (and implement as needed) procedures for obtaining necessary electronic protected health information during an emergency.', 'reg_code': 'EAP', 'label': 'not_linked'}, {'requirement': 'The secrecy of the content is maintained during transmission.', 'regulation': 'Transmission security. Implement technical security measures to guard against unauthorized access to electronic protected health information that is being transmitted over an electronic communications network.', 'reg_code': 'TS', 'label': 'not_linked'}, {'requirement': 'The secrecy of the content is maintained during transmission.', 'regulation': 'Encryption and decryption. Implement a mechanism to encrypt and decrypt electronic protected health information.', 'reg_code': 'TED', 'label': 'not_linked'}, {'requirement': 'The secrecy of the content is maintained during transmission.', 'regulation': 'Emergency access procedure. Establish (and implement as needed) procedures for obtaining necessary electronic protected health information during an emergency.', 'reg_code': 'EAP', 'label': 'not_linked'}, {'requirement': 'The secrecy of the content is maintained during transmission.', 'regulation': 'Unique user identification. Assign a unique name and/or number for identifying and tracking user identity.', 'reg_code': 'UUI', 'label': 'not_linked'}, {'requirement': 'The secrecy of the content is maintained during transmission.', 'regulation': 'Encryption and decryption. Implement a mechanism to encrypt and decrypt electronic protected health information.', 'reg_code': 'TED', 'label': 'not_linked'}, {'requirement': 'The secrecy of the content is maintained during transmission.', 'regulation': 'Automatic logoff. Implement electronic procedures that terminate an electronic session after a predetermined time of inactivity.', 'reg_code': 'AL', 'label': 'not_linked'}, {'requirement': 'The secrecy of the content is maintained during transmission.', 'regulation': 'Access Control. Implement technical policies and procedures for electronic information systems that maintain electronic protected health information to allow access only to those persons or software programs that have been granted access rights as specified in ? 164.308(a)(4).', 'reg_code': 'AC', 'label': 'not_linked'}, {'requirement': 'The secrecy of the content is maintained during transmission.', 'regulation': 'Access Control. Implement technical policies and procedures for electronic information systems that maintain electronic protected health information to allow access only to those persons or software programs that have been granted access rights as specified in ? 164.308(a)(4).', 'reg_code': 'AC', 'label': 'not_linked'}, {'requirement': 'The secrecy of the content is maintained during transmission.', 'regulation': 'Unique user identification. Assign a unique name and/or number for identifying and tracking user identity.', 'reg_code': 'UUI', 'label': 'not_linked'}, {'requirement': 'The secrecy of the content is maintained during transmission.', 'regulation': 'Emergency access procedure. Establish (and implement as needed) procedures for obtaining necessary electronic protected health information during an emergency.', 'reg_code': 'EAP', 'label': 'not_linked'}, {'requirement': 'The secrecy of the content is maintained during transmission.', 'regulation': 'Unique user identification. Assign a unique name and/or number for identifying and tracking user identity.', 'reg_code': 'UUI', 'label': 'not_linked'}, {'requirement': 'The secrecy of the content is maintained during transmission.', 'regulation': 'Encryption and decryption. Implement a mechanism to encrypt and decrypt electronic protected health information.', 'reg_code': 'TED', 'label': 'not_linked'}, {'requirement': 'The secrecy of the content is maintained during transmission.', 'regulation': 'Encryption. Implement a mechanism to encrypt electronic protected health information whenever deemed appropriate.', 'reg_code': 'SED', 'label': 'not_linked'}, {'requirement': 'The secrecy of the content is maintained during transmission.', 'regulation': 'Encryption and decryption. Implement a mechanism to encrypt and decrypt electronic protected health information.', 'reg_code': 'TED', 'label': 'not_linked'}, {'requirement': 'The secrecy of the content is maintained during transmission.', 'regulation': 'Encryption and decryption. Implement a mechanism to encrypt and decrypt electronic protected health information.', 'reg_code': 'TED', 'label': 'not_linked'}, {'requirement': 'The secrecy of the content is maintained during transmission.', 'regulation': 'Person or entity authentication. Implement procedures to verify that a person or entity seeking access to electronic protected health information is the one claimed.', 'reg_code': 'PA', 'label': 'not_linked'}, {'requirement': 'The secrecy of the content is maintained during transmission.', 'regulation': 'Person or entity authentication. Implement procedures to verify that a person or entity seeking access to electronic protected health information is the one claimed.', 'reg_code': 'PA', 'label': 'not_linked'}, {'requirement': 'The secrecy of the content is maintained during transmission.', 'regulation': 'Encryption. Implement a mechanism to encrypt electronic protected health information whenever deemed appropriate.', 'reg_code': 'SED', 'label': 'not_linked'}, {'requirement': 'The secrecy of the content is maintained during transmission.', 'regulation': 'Emergency access procedure. Establish (and implement as needed) procedures for obtaining necessary electronic protected health information during an emergency.', 'reg_code': 'EAP', 'label': 'not_linked'}, {'requirement': 'The secrecy of the content is maintained during transmission.', 'regulation': 'Access Control. Implement technical policies and procedures for electronic information systems that maintain electronic protected health information to allow access only to those persons or software programs that have been granted access rights as specified in ? 164.308(a)(4).', 'reg_code': 'AC', 'label': 'not_linked'}, {'requirement': 'The secrecy of the content is maintained during transmission.', 'regulation': 'Emergency access procedure. Establish (and implement as needed) procedures for obtaining necessary electronic protected health information during an emergency.', 'reg_code': 'EAP', 'label': 'not_linked'}, {'requirement': 'The secrecy of the content is maintained during transmission.', 'regulation': 'Audit Controls. Implement hardware, software, and/or procedural mechanisms that record and examine activity in information systems that contain or use electronic protected health information.', 'reg_code': 'AUD', 'label': 'not_linked'}, {'requirement': 'The secrecy of the content is maintained during transmission.', 'regulation': 'Person or entity authentication. Implement procedures to verify that a person or entity seeking access to electronic protected health information is the one claimed.', 'reg_code': 'PA', 'label': 'not_linked'}, {'requirement': 'The secrecy of the content is maintained during transmission.', 'regulation': 'Encryption and decryption. Implement a mechanism to encrypt and decrypt electronic protected health information.', 'reg_code': 'TED', 'label': 'not_linked'}, {'requirement': 'The secrecy of the content is maintained during transmission.', 'regulation': 'Emergency access procedure. Establish (and implement as needed) procedures for obtaining necessary electronic protected health information during an emergency.', 'reg_code': 'EAP', 'label': 'not_linked'}, {'requirement': 'The secrecy of the content is maintained during transmission.', 'regulation': 'Transmission security. Implement technical security measures to guard against unauthorized access to electronic protected health information that is being transmitted over an electronic communications network.', 'reg_code': 'TS', 'label': 'not_linked'}, {'requirement': 'The secrecy of the content is maintained during transmission.', 'regulation': 'Automatic logoff. Implement electronic procedures that terminate an electronic session after a predetermined time of inactivity.', 'reg_code': 'AL', 'label': 'not_linked'}, {'requirement': 'The secrecy of the content is maintained during transmission.', 'regulation': 'Person or entity authentication. Implement procedures to verify that a person or entity seeking access to electronic protected health information is the one claimed.', 'reg_code': 'PA', 'label': 'not_linked'}, {'requirement': 'The secrecy of the content is maintained during transmission.', 'regulation': 'Person or entity authentication. Implement procedures to verify that a person or entity seeking access to electronic protected health information is the one claimed.', 'reg_code': 'PA', 'label': 'not_linked'}, {'requirement': 'The secrecy of the content is maintained during transmission.', 'regulation': 'Audit Controls. Implement hardware, software, and/or procedural mechanisms that record and examine activity in information systems that contain or use electronic protected health information.', 'reg_code': 'AUD', 'label': 'not_linked'}, {'requirement': 'The secrecy of the content is maintained during transmission.', 'regulation': 'Access Control. Implement technical policies and procedures for electronic information systems that maintain electronic protected health information to allow access only to those persons or software programs that have been granted access rights as specified in ? 164.308(a)(4).', 'reg_code': 'AC', 'label': 'not_linked'}, {'requirement': 'The secrecy of the content is maintained during transmission.', 'regulation': 'Encryption and decryption. Implement a mechanism to encrypt and decrypt electronic protected health information.', 'reg_code': 'TED', 'label': 'not_linked'}, {'requirement': 'The secrecy of the content is maintained during transmission.', 'regulation': 'Integrity controls. Implement security measures to ensure that electronically transmitted electronic protected health information is not improperly modified without detection until disposed of.', 'reg_code': 'IC', 'label': 'not_linked'}, {'requirement': 'The secrecy of the content is maintained during transmission.', 'regulation': 'Unique user identification. Assign a unique name and/or number for identifying and tracking user identity.', 'reg_code': 'UUI', 'label': 'not_linked'}, {'requirement': 'The secrecy of the content is maintained during transmission.', 'regulation': 'Unique user identification. Assign a unique name and/or number for identifying and tracking user identity.', 'reg_code': 'UUI', 'label': 'not_linked'}, {'requirement': 'The secrecy of the content is maintained during transmission.', 'regulation': 'Transmission security. Implement technical security measures to guard against unauthorized access to electronic protected health information that is being transmitted over an electronic communications network.', 'reg_code': 'TS', 'label': 'not_linked'}, {'requirement': 'The secrecy of the content is maintained during transmission.', 'regulation': 'Access Control. Implement technical policies and procedures for electronic information systems that maintain electronic protected health information to allow access only to those persons or software programs that have been granted access rights as specified in ? 164.308(a)(4).', 'reg_code': 'AC', 'label': 'not_linked'}, {'requirement': 'The secrecy of the content is maintained during transmission.', 'regulation': 'Encryption and decryption. Implement a mechanism to encrypt and decrypt electronic protected health information.', 'reg_code': 'TED', 'label': 'not_linked'}, {'requirement': 'The secrecy of the content is maintained during transmission.', 'regulation': 'Audit Controls. Implement hardware, software, and/or procedural mechanisms that record and examine activity in information systems that contain or use electronic protected health information.', 'reg_code': 'AUD', 'label': 'not_linked'}, {'requirement': 'The secrecy of the content is maintained during transmission.', 'regulation': 'Access Control. Implement technical policies and procedures for electronic information systems that maintain electronic protected health information to allow access only to those persons or software programs that have been granted access rights as specified in ? 164.308(a)(4).', 'reg_code': 'AC', 'label': 'not_linked'}, {'requirement': 'The secrecy of the content is maintained during transmission.', 'regulation': 'Person or entity authentication. Implement procedures to verify that a person or entity seeking access to electronic protected health information is the one claimed.', 'reg_code': 'PA', 'label': 'not_linked'}, {'requirement': 'The secrecy of the content is maintained during transmission.', 'regulation': 'Encryption and decryption. Implement a mechanism to encrypt and decrypt electronic protected health information.', 'reg_code': 'TED', 'label': 'not_linked'}, {'requirement': 'The secrecy of the content is maintained during transmission.', 'regulation': 'Audit Controls. Implement hardware, software, and/or procedural mechanisms that record and examine activity in information systems that contain or use electronic protected health information.', 'reg_code': 'AUD', 'label': 'not_linked'}, {'requirement': 'The secrecy of the content is maintained during transmission.', 'regulation': 'Encryption. Implement a mechanism to encrypt electronic protected health information whenever deemed appropriate.', 'reg_code': 'SED', 'label': 'not_linked'}, {'requirement': 'The secrecy of the content is maintained during transmission.', 'regulation': 'Person or entity authentication. Implement procedures to verify that a person or entity seeking access to electronic protected health information is the one claimed.', 'reg_code': 'PA', 'label': 'not_linked'}, {'requirement': 'The secrecy of the content is maintained during transmission.', 'regulation': 'Person or entity authentication. Implement procedures to verify that a person or entity seeking access to electronic protected health information is the one claimed.', 'reg_code': 'PA', 'label': 'not_linked'}, {'requirement': 'The secrecy of the content is maintained during transmission.', 'regulation': 'Access Control. Implement technical policies and procedures for electronic information systems that maintain electronic protected health information to allow access only to those persons or software programs that have been granted access rights as specified in ? 164.308(a)(4).', 'reg_code': 'AC', 'label': 'not_linked'}, {'requirement': 'The secrecy of the content is maintained during transmission.', 'regulation': 'Emergency access procedure. Establish (and implement as needed) procedures for obtaining necessary electronic protected health information during an emergency.', 'reg_code': 'EAP', 'label': 'not_linked'}, {'requirement': 'The secrecy of the content is maintained during transmission.', 'regulation': 'Audit Controls. Implement hardware, software, and/or procedural mechanisms that record and examine activity in information systems that contain or use electronic protected health information.', 'reg_code': 'AUD', 'label': 'not_linked'}, {'requirement': 'The secrecy of the content is maintained during transmission.', 'regulation': 'Transmission security. Implement technical security measures to guard against unauthorized access to electronic protected health information that is being transmitted over an electronic communications network.', 'reg_code': 'TS', 'label': 'not_linked'}, {'requirement': 'The secrecy of the content is maintained during transmission.', 'regulation': 'Person or entity authentication. Implement procedures to verify that a person or entity seeking access to electronic protected health information is the one claimed.', 'reg_code': 'PA', 'label': 'not_linked'}, {'requirement': 'The secrecy of the content is maintained during transmission.', 'regulation': 'Automatic logoff. Implement electronic procedures that terminate an electronic session after a predetermined time of inactivity.', 'reg_code': 'AL', 'label': 'not_linked'}, {'requirement': 'The secrecy of the content is maintained during transmission.', 'regulation': 'Person or entity authentication. Implement procedures to verify that a person or entity seeking access to electronic protected health information is the one claimed.', 'reg_code': 'PA', 'label': 'not_linked'}, {'requirement': 'The secrecy of the content is maintained during transmission.', 'regulation': 'Automatic logoff. Implement electronic procedures that terminate an electronic session after a predetermined time of inactivity.', 'reg_code': 'AL', 'label': 'not_linked'}, {'requirement': 'The secrecy of the content is maintained during transmission.', 'regulation': 'Access Control. Implement technical policies and procedures for electronic information systems that maintain electronic protected health information to allow access only to those persons or software programs that have been granted access rights as specified in ? 164.308(a)(4).', 'reg_code': 'AC', 'label': 'not_linked'}, {'requirement': 'The secrecy of the content is maintained during transmission.', 'regulation': 'Encryption. Implement a mechanism to encrypt electronic protected health information whenever deemed appropriate.', 'reg_code': 'SED', 'label': 'not_linked'}, {'requirement': 'The secrecy of the content is maintained during transmission.', 'regulation': 'Encryption and decryption. Implement a mechanism to encrypt and decrypt electronic protected health information.', 'reg_code': 'TED', 'label': 'not_linked'}, {'requirement': 'The secrecy of the content is maintained during transmission.', 'regulation': 'Unique user identification. Assign a unique name and/or number for identifying and tracking user identity.', 'reg_code': 'UUI', 'label': 'not_linked'}, {'requirement': 'The secrecy of the content is maintained during transmission.', 'regulation': 'Audit Controls. Implement hardware, software, and/or procedural mechanisms that record and examine activity in information systems that contain or use electronic protected health information.', 'reg_code': 'AUD', 'label': 'not_linked'}, {'requirement': 'The secrecy of the content is maintained during transmission.', 'regulation': 'Access Control. Implement technical policies and procedures for electronic information systems that maintain electronic protected health information to allow access only to those persons or software programs that have been granted access rights as specified in ? 164.308(a)(4).', 'reg_code': 'AC', 'label': 'not_linked'}, {'requirement': 'The secrecy of the content is maintained during transmission.', 'regulation': 'Emergency access procedure. Establish (and implement as needed) procedures for obtaining necessary electronic protected health information during an emergency.', 'reg_code': 'EAP', 'label': 'not_linked'}, {'requirement': 'The secrecy of the content is maintained during transmission.', 'regulation': 'Integrity controls. Implement security measures to ensure that electronically transmitted electronic protected health information is not improperly modified without detection until disposed of.', 'reg_code': 'IC', 'label': 'not_linked'}, {'requirement': 'The secrecy of the content is maintained during transmission.', 'regulation': 'Unique user identification. Assign a unique name and/or number for identifying and tracking user identity.', 'reg_code': 'UUI', 'label': 'not_linked'}, {'requirement': 'The secrecy of the content is maintained during transmission.', 'regulation': 'Unique user identification. Assign a unique name and/or number for identifying and tracking user identity.', 'reg_code': 'UUI', 'label': 'not_linked'}, {'requirement': 'The secrecy of the content is maintained during transmission.', 'regulation': 'Integrity controls. Implement security measures to ensure that electronically transmitted electronic protected health information is not improperly modified without detection until disposed of.', 'reg_code': 'IC', 'label': 'not_linked'}, {'requirement': 'The secrecy of the content is maintained during transmission.', 'regulation': 'Emergency access procedure. Establish (and implement as needed) procedures for obtaining necessary electronic protected health information during an emergency.', 'reg_code': 'EAP', 'label': 'not_linked'}, {'requirement': 'The secrecy of the content is maintained during transmission.', 'regulation': 'Integrity controls. Implement security measures to ensure that electronically transmitted electronic protected health information is not improperly modified without detection until disposed of.', 'reg_code': 'IC', 'label': 'not_linked'}, {'requirement': 'The secrecy of the content is maintained during transmission.', 'regulation': 'Person or entity authentication. Implement procedures to verify that a person or entity seeking access to electronic protected health information is the one claimed.', 'reg_code': 'PA', 'label': 'not_linked'}, {'requirement': 'The secrecy of the content is maintained during transmission.', 'regulation': 'Person or entity authentication. Implement procedures to verify that a person or entity seeking access to electronic protected health information is the one claimed.', 'reg_code': 'PA', 'label': 'not_linked'}, {'requirement': 'The secrecy of the content is maintained during transmission.', 'regulation': 'Encryption and decryption. Implement a mechanism to encrypt and decrypt electronic protected health information.', 'reg_code': 'TED', 'label': 'not_linked'}, {'requirement': 'The secrecy of the content is maintained during transmission.', 'regulation': 'Integrity controls. Implement security measures to ensure that electronically transmitted electronic protected health information is not improperly modified without detection until disposed of.', 'reg_code': 'IC', 'label': 'not_linked'}, {'requirement': 'The secrecy of the content is maintained during transmission.', 'regulation': 'Unique user identification. Assign a unique name and/or number for identifying and tracking user identity.', 'reg_code': 'UUI', 'label': 'not_linked'}, {'requirement': 'The secrecy of the content is maintained during transmission.', 'regulation': 'Encryption and decryption. Implement a mechanism to encrypt and decrypt electronic protected health information.', 'reg_code': 'TED', 'label': 'not_linked'}, {'requirement': 'The secrecy of the content is maintained during transmission.', 'regulation': 'Audit Controls. Implement hardware, software, and/or procedural mechanisms that record and examine activity in information systems that contain or use electronic protected health information.', 'reg_code': 'AUD', 'label': 'not_linked'}, {'requirement': 'The secrecy of the content is maintained during transmission.', 'regulation': 'Automatic logoff. Implement electronic procedures that terminate an electronic session after a predetermined time of inactivity.', 'reg_code': 'AL', 'label': 'not_linked'}, {'requirement': 'The secrecy of the content is maintained during transmission.', 'regulation': 'Encryption. Implement a mechanism to encrypt electronic protected health information whenever deemed appropriate.', 'reg_code': 'SED', 'label': 'not_linked'}, {'requirement': 'The secrecy of the content is maintained during transmission.', 'regulation': 'Access Control. Implement technical policies and procedures for electronic information systems that maintain electronic protected health information to allow access only to those persons or software programs that have been granted access rights as specified in ? 164.308(a)(4).', 'reg_code': 'AC', 'label': 'not_linked'}, {'requirement': 'The secrecy of the content is maintained during transmission.', 'regulation': 'Automatic logoff. Implement electronic procedures that terminate an electronic session after a predetermined time of inactivity.', 'reg_code': 'AL', 'label': 'not_linked'}, {'requirement': 'The secrecy of the content is maintained during transmission.', 'regulation': 'Unique user identification. Assign a unique name and/or number for identifying and tracking user identity.', 'reg_code': 'UUI', 'label': 'not_linked'}, {'requirement': 'The secrecy of the content is maintained during transmission.', 'regulation': 'Access Control. Implement technical policies and procedures for electronic information systems that maintain electronic protected health information to allow access only to those persons or software programs that have been granted access rights as specified in ? 164.308(a)(4).', 'reg_code': 'AC', 'label': 'not_linked'}, {'requirement': 'The secrecy of the content is maintained during transmission.', 'regulation': 'Encryption and decryption. Implement a mechanism to encrypt and decrypt electronic protected health information.', 'reg_code': 'TED', 'label': 'not_linked'}, {'requirement': 'The secrecy of the content is maintained during transmission.', 'regulation': 'Person or entity authentication. Implement procedures to verify that a person or entity seeking access to electronic protected health information is the one claimed.', 'reg_code': 'PA', 'label': 'not_linked'}, {'requirement': 'The secrecy of the content is maintained during transmission.', 'regulation': 'Transmission security. Implement technical security measures to guard against unauthorized access to electronic protected health information that is being transmitted over an electronic communications network.', 'reg_code': 'TS', 'label': 'not_linked'}, {'requirement': 'The secrecy of the content is maintained during transmission.', 'regulation': 'Audit Controls. Implement hardware, software, and/or procedural mechanisms that record and examine activity in information systems that contain or use electronic protected health information.', 'reg_code': 'AUD', 'label': 'not_linked'}, {'requirement': 'The secrecy of the content is maintained during transmission.', 'regulation': 'Integrity controls. Implement security measures to ensure that electronically transmitted electronic protected health information is not improperly modified without detection until disposed of.', 'reg_code': 'IC', 'label': 'not_linked'}, {'requirement': 'The secrecy of the content is maintained during transmission.', 'regulation': 'Access Control. Implement technical policies and procedures for electronic information systems that maintain electronic protected health information to allow access only to those persons or software programs that have been granted access rights as specified in ? 164.308(a)(4).', 'reg_code': 'AC', 'label': 'not_linked'}, {'requirement': 'The secrecy of the content is maintained during transmission.', 'regulation': 'Audit Controls. Implement hardware, software, and/or procedural mechanisms that record and examine activity in information systems that contain or use electronic protected health information.', 'reg_code': 'AUD', 'label': 'not_linked'}, {'requirement': 'The secrecy of the content is maintained during transmission.', 'regulation': 'Encryption and decryption. Implement a mechanism to encrypt and decrypt electronic protected health information.', 'reg_code': 'TED', 'label': 'not_linked'}, {'requirement': 'The secrecy of the content is maintained during transmission.', 'regulation': 'Person or entity authentication. Implement procedures to verify that a person or entity seeking access to electronic protected health information is the one claimed.', 'reg_code': 'PA', 'label': 'not_linked'}, {'requirement': 'The secrecy of the content is maintained during transmission.', 'regulation': 'Transmission security. Implement technical security measures to guard against unauthorized access to electronic protected health information that is being transmitted over an electronic communications network.', 'reg_code': 'TS', 'label': 'not_linked'}, {'requirement': 'The secrecy of the content is maintained during transmission.', 'regulation': 'Transmission security. Implement technical security measures to guard against unauthorized access to electronic protected health information that is being transmitted over an electronic communications network.', 'reg_code': 'TS', 'label': 'not_linked'}, {'requirement': 'The secrecy of the content is maintained during transmission.', 'regulation': 'Encryption and decryption. Implement a mechanism to encrypt and decrypt electronic protected health information.', 'reg_code': 'TED', 'label': 'not_linked'}, {'requirement': 'The secrecy of the content is maintained during transmission.', 'regulation': 'Emergency access procedure. Establish (and implement as needed) procedures for obtaining necessary electronic protected health information during an emergency.', 'reg_code': 'EAP', 'label': 'not_linked'}, {'requirement': 'The secrecy of the content is maintained during transmission.', 'regulation': 'Integrity controls. Implement security measures to ensure that electronically transmitted electronic protected health information is not improperly modified without detection until disposed of.', 'reg_code': 'IC', 'label': 'not_linked'}, {'requirement': 'The secrecy of the content is maintained during transmission.', 'regulation': 'Encryption. Implement a mechanism to encrypt electronic protected health information whenever deemed appropriate.', 'reg_code': 'SED', 'label': 'not_linked'}, {'requirement': 'The secrecy of the content is maintained during transmission.', 'regulation': 'Person or entity authentication. Implement procedures to verify that a person or entity seeking access to electronic protected health information is the one claimed.', 'reg_code': 'PA', 'label': 'not_linked'}, {'requirement': 'The secrecy of the content is maintained during transmission.', 'regulation': 'Encryption and decryption. Implement a mechanism to encrypt and decrypt electronic protected health information.', 'reg_code': 'TED', 'label': 'not_linked'}, {'requirement': 'The secrecy of the content is maintained during transmission.', 'regulation': 'Encryption. Implement a mechanism to encrypt electronic protected health information whenever deemed appropriate.', 'reg_code': 'SED', 'label': 'not_linked'}, {'requirement': 'The secrecy of the content is maintained during transmission.', 'regulation': 'Encryption. Implement a mechanism to encrypt electronic protected health information whenever deemed appropriate.', 'reg_code': 'SED', 'label': 'not_linked'}, {'requirement': 'The secrecy of the content is maintained during transmission.', 'regulation': 'Transmission security. Implement technical security measures to guard against unauthorized access to electronic protected health information that is being transmitted over an electronic communications network.', 'reg_code': 'TS', 'label': 'not_linked'}, {'requirement': 'The secrecy of the content is maintained during transmission.', 'regulation': 'Person or entity authentication. Implement procedures to verify that a person or entity seeking access to electronic protected health information is the one claimed.', 'reg_code': 'PA', 'label': 'not_linked'}, {'requirement': 'The secrecy of the content is maintained during transmission.', 'regulation': 'Encryption and decryption. Implement a mechanism to encrypt and decrypt electronic protected health information.', 'reg_code': 'TED', 'label': 'not_linked'}, {'requirement': 'The secrecy of the content is maintained during transmission.', 'regulation': 'Encryption. Implement a mechanism to encrypt electronic protected health information whenever deemed appropriate.', 'reg_code': 'SED', 'label': 'not_linked'}, {'requirement': 'The secrecy of the content is maintained during transmission.', 'regulation': 'Unique user identification. Assign a unique name and/or number for identifying and tracking user identity.', 'reg_code': 'UUI', 'label': 'not_linked'}, {'requirement': 'The secrecy of the content is maintained during transmission.', 'regulation': 'Person or entity authentication. Implement procedures to verify that a person or entity seeking access to electronic protected health information is the one claimed.', 'reg_code': 'PA', 'label': 'not_linked'}, {'requirement': 'The secrecy of the content is maintained during transmission.', 'regulation': 'Automatic logoff. Implement electronic procedures that terminate an electronic session after a predetermined time of inactivity.', 'reg_code': 'AL', 'label': 'not_linked'}, {'requirement': 'The secrecy of the content is maintained during transmission.', 'regulation': 'Emergency access procedure. Establish (and implement as needed) procedures for obtaining necessary electronic protected health information during an emergency.', 'reg_code': 'EAP', 'label': 'not_linked'}, {'requirement': 'The secrecy of the content is maintained during transmission.', 'regulation': 'Encryption. Implement a mechanism to encrypt electronic protected health information whenever deemed appropriate.', 'reg_code': 'SED', 'label': 'not_linked'}, {'requirement': 'The secrecy of the content is maintained during transmission.', 'regulation': 'Automatic logoff. Implement electronic procedures that terminate an electronic session after a predetermined time of inactivity.', 'reg_code': 'AL', 'label': 'not_linked'}, {'requirement': 'The secrecy of the content is maintained during transmission.', 'regulation': 'Audit Controls. Implement hardware, software, and/or procedural mechanisms that record and examine activity in information systems that contain or use electronic protected health information.', 'reg_code': 'AUD', 'label': 'not_linked'}, {'requirement': 'The secrecy of the content is maintained during transmission.', 'regulation': 'Access Control. Implement technical policies and procedures for electronic information systems that maintain electronic protected health information to allow access only to those persons or software programs that have been granted access rights as specified in ? 164.308(a)(4).', 'reg_code': 'AC', 'label': 'not_linked'}, {'requirement': 'The secrecy of the content is maintained during transmission.', 'regulation': 'Encryption and decryption. Implement a mechanism to encrypt and decrypt electronic protected health information.', 'reg_code': 'TED', 'label': 'not_linked'}, {'requirement': 'The secrecy of the content is maintained during transmission.', 'regulation': 'Integrity controls. Implement security measures to ensure that electronically transmitted electronic protected health information is not improperly modified without detection until disposed of.', 'reg_code': 'IC', 'label': 'not_linked'}, {'requirement': 'The secrecy of the content is maintained during transmission.', 'regulation': 'Person or entity authentication. Implement procedures to verify that a person or entity seeking access to electronic protected health information is the one claimed.', 'reg_code': 'PA', 'label': 'not_linked'}, {'requirement': 'The secrecy of the content is maintained during transmission.', 'regulation': 'Unique user identification. Assign a unique name and/or number for identifying and tracking user identity.', 'reg_code': 'UUI', 'label': 'not_linked'}, {'requirement': 'The secrecy of the content is maintained during transmission.', 'regulation': 'Encryption and decryption. Implement a mechanism to encrypt and decrypt electronic protected health information.', 'reg_code': 'TED', 'label': 'not_linked'}, {'requirement': 'The secrecy of the content is maintained during transmission.', 'regulation': 'Unique user identification. Assign a unique name and/or number for identifying and tracking user identity.', 'reg_code': 'UUI', 'label': 'not_linked'}, {'requirement': 'The secrecy of the content is maintained during transmission.', 'regulation': 'Transmission security. Implement technical security measures to guard against unauthorized access to electronic protected health information that is being transmitted over an electronic communications network.', 'reg_code': 'TS', 'label': 'not_linked'}, {'requirement': 'The secrecy of the content is maintained during transmission.', 'regulation': 'Transmission security. Implement technical security measures to guard against unauthorized access to electronic protected health information that is being transmitted over an electronic communications network.', 'reg_code': 'TS', 'label': 'not_linked'}, {'requirement': 'The secrecy of the content is maintained during transmission.', 'regulation': 'Unique user identification. Assign a unique name and/or number for identifying and tracking user identity.', 'reg_code': 'UUI', 'label': 'not_linked'}, {'requirement': 'The secrecy of the content is maintained during transmission.', 'regulation': 'Transmission security. Implement technical security measures to guard against unauthorized access to electronic protected health information that is being transmitted over an electronic communications network.', 'reg_code': 'TS', 'label': 'not_linked'}, {'requirement': 'The secrecy of the content is maintained during transmission.', 'regulation': 'Unique user identification. Assign a unique name and/or number for identifying and tracking user identity.', 'reg_code': 'UUI', 'label': 'not_linked'}, {'requirement': 'The secrecy of the content is maintained during transmission.', 'regulation': 'Transmission security. Implement technical security measures to guard against unauthorized access to electronic protected health information that is being transmitted over an electronic communications network.', 'reg_code': 'TS', 'label': 'not_linked'}, {'requirement': 'The secrecy of the content is maintained during transmission.', 'regulation': 'Automatic logoff. Implement electronic procedures that terminate an electronic session after a predetermined time of inactivity.', 'reg_code': 'AL', 'label': 'not_linked'}, {'requirement': 'The secrecy of the content is maintained during transmission.', 'regulation': 'Encryption. Implement a mechanism to encrypt electronic protected health information whenever deemed appropriate.', 'reg_code': 'SED', 'label': 'not_linked'}, {'requirement': 'The secrecy of the content is maintained during transmission.', 'regulation': 'Integrity controls. Implement security measures to ensure that electronically transmitted electronic protected health information is not improperly modified without detection until disposed of.', 'reg_code': 'IC', 'label': 'not_linked'}, {'requirement': 'The secrecy of the content is maintained during transmission.', 'regulation': 'Transmission security. Implement technical security measures to guard against unauthorized access to electronic protected health information that is being transmitted over an electronic communications network.', 'reg_code': 'TS', 'label': 'not_linked'}, {'requirement': 'The secrecy of the content is maintained during transmission.', 'regulation': 'Transmission security. Implement technical security measures to guard against unauthorized access to electronic protected health information that is being transmitted over an electronic communications network.', 'reg_code': 'TS', 'label': 'not_linked'}, {'requirement': 'The secrecy of the content is maintained during transmission.', 'regulation': 'Integrity controls. Implement security measures to ensure that electronically transmitted electronic protected health information is not improperly modified without detection until disposed of.', 'reg_code': 'IC', 'label': 'not_linked'}, {'requirement': 'The secrecy of the content is maintained during transmission.', 'regulation': 'Emergency access procedure. Establish (and implement as needed) procedures for obtaining necessary electronic protected health information during an emergency.', 'reg_code': 'EAP', 'label': 'not_linked'}, {'requirement': 'The secrecy of the content is maintained during transmission.', 'regulation': 'Audit Controls. Implement hardware, software, and/or procedural mechanisms that record and examine activity in information systems that contain or use electronic protected health information.', 'reg_code': 'AUD', 'label': 'not_linked'}, {'requirement': 'The secrecy of the content is maintained during transmission.', 'regulation': 'Integrity controls. Implement security measures to ensure that electronically transmitted electronic protected health information is not improperly modified without detection until disposed of.', 'reg_code': 'IC', 'label': 'not_linked'}, {'requirement': 'The secrecy of the content is maintained during transmission.', 'regulation': 'Integrity controls. Implement security measures to ensure that electronically transmitted electronic protected health information is not improperly modified without detection until disposed of.', 'reg_code': 'IC', 'label': 'not_linked'}, {'requirement': 'The secrecy of the content is maintained during transmission.', 'regulation': 'Audit Controls. Implement hardware, software, and/or procedural mechanisms that record and examine activity in information systems that contain or use electronic protected health information.', 'reg_code': 'AUD', 'label': 'not_linked'}, {'requirement': 'The secrecy of the content is maintained during transmission.', 'regulation': 'Unique user identification. Assign a unique name and/or number for identifying and tracking user identity.', 'reg_code': 'UUI', 'label': 'not_linked'}, {'requirement': 'The secrecy of the content is maintained during transmission.', 'regulation': 'Audit Controls. Implement hardware, software, and/or procedural mechanisms that record and examine activity in information systems that contain or use electronic protected health information.', 'reg_code': 'AUD', 'label': 'not_linked'}, {'requirement': 'The secrecy of the content is maintained during transmission.', 'regulation': 'Unique user identification. Assign a unique name and/or number for identifying and tracking user identity.', 'reg_code': 'UUI', 'label': 'not_linked'}, {'requirement': 'The secrecy of the content is maintained during transmission.', 'regulation': 'Encryption. Implement a mechanism to encrypt electronic protected health information whenever deemed appropriate.', 'reg_code': 'SED', 'label': 'not_linked'}]\n"
          ]
        }
      ],
      "source": [
        "print(train)"
      ]
    },
    {
      "cell_type": "code",
      "execution_count": null,
      "metadata": {
        "id": "M_r3r7GpfXmA"
      },
      "outputs": [],
      "source": [
        "new_test = []\n",
        "duplicate = []\n",
        "for t in test:\n",
        "  req = t['requirement']\n",
        "  if req in duplicate: continue\n",
        "  duplicate.append(req)\n",
        "\n",
        "  labels = [tmp['reg_code'] for tmp in test if tmp['requirement'] == req and tmp['label'] != 'not_linked']\n",
        "  if len(labels) == 0:\n",
        "    labels = ['else']\n",
        "\n",
        "  temp = {}\n",
        "  new_test.append({'text':req, 'labels':labels})\n",
        "\n",
        "test = new_test"
      ]
    },
    {
      "cell_type": "code",
      "execution_count": null,
      "metadata": {
        "id": "LZ_y1g2bi0Sp"
      },
      "outputs": [],
      "source": [
        "new_train = []\n",
        "duplicate = []\n",
        "for t in train:\n",
        "  req = t['requirement']\n",
        "  if req in duplicate: continue\n",
        "  duplicate.append(req)\n",
        "\n",
        "  labels = [tmp['reg_code'] for tmp in train if tmp['requirement'] == req and tmp['label'] != 'not_linked']\n",
        "  if len(labels) == 0:\n",
        "    labels = ['else']\n",
        "\n",
        "  temp = {}\n",
        "  new_train.append({'text':req, 'labels':labels})\n",
        "\n",
        "train_examples = new_train"
      ]
    },
    {
      "cell_type": "code",
      "execution_count": null,
      "metadata": {
        "colab": {
          "base_uri": "https://localhost:8080/"
        },
        "id": "jJdU32tPhRFw",
        "outputId": "000f2982-b8ec-4ab3-e932-7d271d5946df"
      },
      "outputs": [
        {
          "name": "stdout",
          "output_type": "stream",
          "text": [
            "[{'text': 'The system shall support role-based access for security controls.', 'labels': ['AC']}, {'text': 'The system shall implement a user class hierarchy to identify the roles that different users fulfill within the hospital.', 'labels': ['AC']}, {'text': 'The system shall allow user classes to be defined hospital-wide or more narrowly for a specific service.', 'labels': ['AC']}, {'text': 'The system shall allow user classes to be used across VistA to replace and/or complement security keys.', 'labels': ['AC']}, {'text': 'The system shall require the entry of an access code and a verify code to gain access to the system.', 'labels': ['AC']}, {'text': 'The system shall allow users who hold any of the ORES/ORELSE/PROVIDER keys to be viewed as a clinical user and has full access privileges to all problem list options.', 'labels': ['AC']}, {'text': 'Clinician should have proper identification/authorization to access patient-specific information everywhere such information exists;', 'labels': ['AC', 'PA']}, {'text': 'Clinician should have proper identification/authorization to access and review patient-specific information', 'labels': ['AC', 'PA']}, {'text': 'methods to enforce data access authorization policies.', 'labels': ['AC']}, {'text': 'Authenticate and verify as ordering clinician or provider of care: May include provider identification and validation of credentials, privileges and/or other authorization.', 'labels': ['AC']}]\n",
            "[{'text': 'System will implement access control list mechanism to obtain information security. ACL system will be derived from the hierarchy in hospital / healthcare environments', 'labels': ['AC']}, {'text': \"The system shall provide the ability to prevent specified user(s) from accessing a designated patient's chart.\", 'labels': ['AC']}, {'text': 'If role-based access control (RBAC) is supported, the system must be capable of operating within an RBAC infrastructure conforming to ANSI INCITS 359-2004, American National Standard for Information Technology   Role Based Access Control.', 'labels': ['AC']}, {'text': 'If role-based access control (RBAC) is supported, the system shall be able to provide role based access control that is in compliance with the HL7 Permissions Catalog.', 'labels': ['AC']}, {'text': 'The system must be able to associate permissions with a user using one or more of the following access controls: 1) user-based (access rights assigned to each user) 2) role-based (users are grouped and access rights assigned to these groups) or 3) context-based (role-based with additional access rights assigned or restricted based on the context of the transaction such as time-of-day, workstation-location, emergency-mode, etc.)', 'labels': ['AC']}, {'text': 'The system shall be able to communicate identity information across domains and web services using  standards based user authentication and access control.', 'labels': ['AC', 'PA']}, {'text': 'The system shall enforce a limit of (configurable) consecutive invalid access attempts by a user.', 'labels': ['AC']}, {'text': 'The system shall enforce the most restrictive set of rights/privileges or accesses needed by users/groups (e.g. System Administration, Clerical, Nurse, Doctor, etc.), or processes acting on behalf of users, for the performance of specified tasks.', 'labels': ['AC']}, {'text': 'The system shall provide the ability for authorized administrators to assign restrictions or privileges to users/groups.', 'labels': ['AC']}, {'text': 'The system, prior to a user login, shall display a (configurable) notice warning (e.g. The system should only be accessed by authorized users).', 'labels': ['AC']}]\n"
          ]
        }
      ],
      "source": [
        "print(test[0:10])\n",
        "print(train_examples[0:10])"
      ]
    },
    {
      "cell_type": "markdown",
      "metadata": {
        "id": "-0O2c3_0ibrP"
      },
      "source": [
        "## **Prompt Engineering Using Gemini**"
      ]
    },
    {
      "cell_type": "code",
      "execution_count": null,
      "metadata": {
        "id": "b5eHvO37id-I"
      },
      "outputs": [],
      "source": [
        "# train_examples = train\n",
        "test_examples = test"
      ]
    },
    {
      "cell_type": "code",
      "execution_count": null,
      "metadata": {
        "colab": {
          "base_uri": "https://localhost:8080/",
          "height": 35
        },
        "id": "oUzab3NdCcPC",
        "outputId": "b9b90ff7-dabb-434b-8be9-fbcb691a9872"
      },
      "outputs": [
        {
          "data": {
            "application/vnd.google.colaboratory.intrinsic+json": {
              "type": "string"
            },
            "text/plain": [
              "'System will implement access control list mechanism to obtain information security. ACL system will be derived from the hierarchy in hospital / healthcare environments'"
            ]
          },
          "execution_count": 77,
          "metadata": {},
          "output_type": "execute_result"
        }
      ],
      "source": [
        "test_examples[0]['text']\n",
        "train_examples[0]['text']"
      ]
    },
    {
      "cell_type": "code",
      "execution_count": null,
      "metadata": {
        "id": "f6d948SQil-g"
      },
      "outputs": [],
      "source": [
        "import pathlib\n",
        "import textwrap\n",
        "import jinja2\n",
        "\n",
        "\n",
        "import google.generativeai as genai\n"
      ]
    },
    {
      "cell_type": "code",
      "execution_count": null,
      "metadata": {
        "colab": {
          "base_uri": "https://localhost:8080/"
        },
        "id": "Zu48x8XM227r",
        "outputId": "978f7de2-c7a4-41c4-cca9-7453a8b5c546"
      },
      "outputs": [
        {
          "name": "stderr",
          "output_type": "stream",
          "text": [
            "Downloading...\n",
            "From: https://drive.google.com/uc?id=1tjPL0OB8qx9LwS_8e1ywwvY65_4IyePW\n",
            "To: /content/template.jinja2\n",
            "100%|██████████| 730/730 [00:00<00:00, 704kB/s]\n"
          ]
        }
      ],
      "source": [
        "# path = pathlib.Path(\"/content/drive/MyDrive/courses_winter_2024_uottawa/NLP/template.jinja2\")\n",
        "url = 'https://drive.google.com/file/d/1tjPL0OB8qx9LwS_8e1ywwvY65_4IyePW/view?usp=sharing'\n",
        "gdown.download(url, fuzzy=True)\n",
        "path = pathlib.Path(\"template.jinja2\")\n",
        "\n",
        "with path.open() as f:\n",
        "    prompt_template = jinja2.Template(f.read())\n",
        "\n",
        "\n",
        "prompt = prompt_template.render(\n",
        "    examples=train_examples,\n",
        "    labels=labels,\n",
        "    text=test_examples[0]['text'],\n",
        ")\n"
      ]
    },
    {
      "cell_type": "code",
      "execution_count": null,
      "metadata": {
        "colab": {
          "base_uri": "https://localhost:8080/"
        },
        "id": "_BvTRysdokoW",
        "outputId": "56933d03-cf40-43a6-ad78-cad1c4781649"
      },
      "outputs": [
        {
          "name": "stdout",
          "output_type": "stream",
          "text": [
            "I want to give you a text that describes software requirements and determine which specific category it belongs to from a predefined list of classes. If it does not fit any of the specified categories, it should be classified under 'Else'.\n",
            "See below all the possible labels and their description\n",
            "\n",
            "\"\"\"\n",
            "regulation description: \n",
            "regulation label: \n",
            "\"\"\"\n",
            "\n",
            "\n",
            "See below a couple of examples\n",
            "\n",
            "\"\"\"\n",
            "requirement text: System will implement access control list mechanism to obtain information security. ACL system will be derived from the hierarchy in hospital / healthcare environments\n",
            "labels: ['AC']\n",
            "\"\"\"\n",
            "\n",
            "\"\"\"\n",
            "requirement text: The system shall provide the ability to prevent specified user(s) from accessing a designated patient's chart.\n",
            "labels: ['AC']\n",
            "\"\"\"\n",
            "\n",
            "\"\"\"\n",
            "requirement text: If role-based access control (RBAC) is supported, the system must be capable of operating within an RBAC infrastructure conforming to ANSI INCITS 359-2004, American National Standard for Information Technology   Role Based Access Co\n"
          ]
        }
      ],
      "source": [
        "print(prompt[:1000]) # for showing all text of prompt please remove the index"
      ]
    },
    {
      "cell_type": "code",
      "execution_count": null,
      "metadata": {
        "id": "b3UU4psHRRCT"
      },
      "outputs": [],
      "source": [
        "GOOGLE_API_KEY = 'your_api_key_here'\n",
        "genai.configure(api_key=GOOGLE_API_KEY)\n",
        "\n",
        "\n",
        "# Set up the model\n",
        "generation_config = {\n",
        "  \"temperature\": 1,\n",
        "  \"top_p\": 0.95,\n",
        "  \"top_k\": 0,\n",
        "  \"max_output_tokens\": 8192,\n",
        "}\n",
        "\n",
        "\n",
        "\n",
        "safety_settings = [\n",
        "  {\n",
        "    \"category\": \"HARM_CATEGORY_HARASSMENT\",\n",
        "    \"threshold\": \"BLOCK_NONE\"\n",
        "  },\n",
        "  {\n",
        "    \"category\": \"HARM_CATEGORY_HATE_SPEECH\",\n",
        "    \"threshold\": \"BLOCK_NONE\"\n",
        "  },\n",
        "  {\n",
        "    \"category\": \"HARM_CATEGORY_SEXUALLY_EXPLICIT\",\n",
        "    \"threshold\": \"BLOCK_NONE\"\n",
        "  },\n",
        "  {\n",
        "    \"category\": \"HARM_CATEGORY_DANGEROUS_CONTENT\",\n",
        "    \"threshold\": \"BLOCK_NONE\"\n",
        "  },\n",
        "]\n",
        "\n",
        "\n",
        "\n",
        "model = genai.GenerativeModel(model_name=\"gemini-1.5-pro-latest\",\n",
        "                              generation_config=generation_config,\n",
        "                              safety_settings=safety_settings)\n",
        "\n",
        "convo = model.start_chat(history=[\n",
        "\n",
        "  {\n",
        "    \"role\": \"user\",\n",
        "    \"parts\": prompt\n",
        "  },\n",
        "\n",
        "\n",
        "])"
      ]
    },
    {
      "cell_type": "code",
      "execution_count": null,
      "metadata": {
        "colab": {
          "base_uri": "https://localhost:8080/",
          "height": 1000
        },
        "id": "CS5UiddE_Na_",
        "outputId": "4f56f68c-5652-4139-d878-ab4eef6305e0"
      },
      "outputs": [
        {
          "name": "stdout",
          "output_type": "stream",
          "text": [
            "i:1 done :)\n",
            "i:2 done :)\n",
            "i:3 done :)\n"
          ]
        },
        {
          "name": "stderr",
          "output_type": "stream",
          "text": [
            "WARNING:tornado.access:429 POST /v1beta/models/gemini-1.5-pro-latest:generateContent?%24alt=json%3Benum-encoding%3Dint (127.0.0.1) 383.23ms\n"
          ]
        },
        {
          "name": "stdout",
          "output_type": "stream",
          "text": [
            "\n",
            " sleep time by 10 seconds\n",
            "i: 3\n",
            "switch to:  0\n"
          ]
        },
        {
          "name": "stderr",
          "output_type": "stream",
          "text": [
            "WARNING:tornado.access:429 POST /v1beta/models/gemini-1.5-pro-latest:generateContent?%24alt=json%3Benum-encoding%3Dint (127.0.0.1) 358.76ms\n"
          ]
        },
        {
          "name": "stdout",
          "output_type": "stream",
          "text": [
            "\n",
            " sleep time by 10 seconds\n",
            "i: 3\n",
            "switch to:  1\n"
          ]
        },
        {
          "name": "stderr",
          "output_type": "stream",
          "text": [
            "WARNING:tornado.access:429 POST /v1beta/models/gemini-1.5-pro-latest:generateContent?%24alt=json%3Benum-encoding%3Dint (127.0.0.1) 306.74ms\n"
          ]
        },
        {
          "name": "stdout",
          "output_type": "stream",
          "text": [
            "\n",
            " sleep time by 10 seconds\n",
            "i: 3\n",
            "switch to:  0\n"
          ]
        },
        {
          "name": "stderr",
          "output_type": "stream",
          "text": [
            "WARNING:tornado.access:429 POST /v1beta/models/gemini-1.5-pro-latest:generateContent?%24alt=json%3Benum-encoding%3Dint (127.0.0.1) 306.04ms\n"
          ]
        },
        {
          "name": "stdout",
          "output_type": "stream",
          "text": [
            "\n",
            " sleep time by 10 seconds\n",
            "i: 3\n",
            "switch to:  1\n"
          ]
        },
        {
          "name": "stderr",
          "output_type": "stream",
          "text": [
            "WARNING:tornado.access:429 POST /v1beta/models/gemini-1.5-pro-latest:generateContent?%24alt=json%3Benum-encoding%3Dint (127.0.0.1) 281.18ms\n"
          ]
        },
        {
          "name": "stdout",
          "output_type": "stream",
          "text": [
            "\n",
            " sleep time by 10 seconds\n",
            "i: 3\n",
            "switch to:  0\n",
            "i:4 done :)\n",
            "i:5 done :)\n",
            "i:6 done :)\n"
          ]
        },
        {
          "name": "stderr",
          "output_type": "stream",
          "text": [
            "WARNING:tornado.access:429 POST /v1beta/models/gemini-1.5-pro-latest:generateContent?%24alt=json%3Benum-encoding%3Dint (127.0.0.1) 514.18ms\n"
          ]
        },
        {
          "name": "stdout",
          "output_type": "stream",
          "text": [
            "\n",
            " sleep time by 10 seconds\n",
            "i: 6\n",
            "switch to:  1\n"
          ]
        },
        {
          "name": "stderr",
          "output_type": "stream",
          "text": [
            "WARNING:tornado.access:429 POST /v1beta/models/gemini-1.5-pro-latest:generateContent?%24alt=json%3Benum-encoding%3Dint (127.0.0.1) 382.62ms\n"
          ]
        },
        {
          "name": "stdout",
          "output_type": "stream",
          "text": [
            "\n",
            " sleep time by 10 seconds\n",
            "i: 6\n",
            "switch to:  0\n"
          ]
        },
        {
          "name": "stderr",
          "output_type": "stream",
          "text": [
            "WARNING:tornado.access:429 POST /v1beta/models/gemini-1.5-pro-latest:generateContent?%24alt=json%3Benum-encoding%3Dint (127.0.0.1) 307.75ms\n"
          ]
        },
        {
          "name": "stdout",
          "output_type": "stream",
          "text": [
            "\n",
            " sleep time by 10 seconds\n",
            "i: 6\n",
            "switch to:  1\n"
          ]
        },
        {
          "name": "stderr",
          "output_type": "stream",
          "text": [
            "WARNING:tornado.access:429 POST /v1beta/models/gemini-1.5-pro-latest:generateContent?%24alt=json%3Benum-encoding%3Dint (127.0.0.1) 509.75ms\n"
          ]
        },
        {
          "name": "stdout",
          "output_type": "stream",
          "text": [
            "\n",
            " sleep time by 10 seconds\n",
            "i: 6\n",
            "switch to:  0\n"
          ]
        },
        {
          "name": "stderr",
          "output_type": "stream",
          "text": [
            "WARNING:tornado.access:429 POST /v1beta/models/gemini-1.5-pro-latest:generateContent?%24alt=json%3Benum-encoding%3Dint (127.0.0.1) 306.91ms\n"
          ]
        },
        {
          "name": "stdout",
          "output_type": "stream",
          "text": [
            "\n",
            " sleep time by 10 seconds\n",
            "i: 6\n",
            "switch to:  1\n",
            "i:7 done :)\n",
            "i:8 done :)\n",
            "i:9 done :)\n"
          ]
        },
        {
          "name": "stderr",
          "output_type": "stream",
          "text": [
            "WARNING:tornado.access:429 POST /v1beta/models/gemini-1.5-pro-latest:generateContent?%24alt=json%3Benum-encoding%3Dint (127.0.0.1) 359.40ms\n"
          ]
        },
        {
          "name": "stdout",
          "output_type": "stream",
          "text": [
            "\n",
            " sleep time by 10 seconds\n",
            "i: 9\n",
            "switch to:  0\n"
          ]
        },
        {
          "name": "stderr",
          "output_type": "stream",
          "text": [
            "WARNING:tornado.access:429 POST /v1beta/models/gemini-1.5-pro-latest:generateContent?%24alt=json%3Benum-encoding%3Dint (127.0.0.1) 815.27ms\n"
          ]
        },
        {
          "name": "stdout",
          "output_type": "stream",
          "text": [
            "\n",
            " sleep time by 10 seconds\n",
            "i: 9\n",
            "switch to:  1\n"
          ]
        },
        {
          "name": "stderr",
          "output_type": "stream",
          "text": [
            "WARNING:tornado.access:429 POST /v1beta/models/gemini-1.5-pro-latest:generateContent?%24alt=json%3Benum-encoding%3Dint (127.0.0.1) 256.29ms\n"
          ]
        },
        {
          "name": "stdout",
          "output_type": "stream",
          "text": [
            "\n",
            " sleep time by 10 seconds\n",
            "i: 9\n",
            "switch to:  0\n"
          ]
        },
        {
          "name": "stderr",
          "output_type": "stream",
          "text": [
            "WARNING:tornado.access:429 POST /v1beta/models/gemini-1.5-pro-latest:generateContent?%24alt=json%3Benum-encoding%3Dint (127.0.0.1) 282.59ms\n"
          ]
        },
        {
          "name": "stdout",
          "output_type": "stream",
          "text": [
            "\n",
            " sleep time by 10 seconds\n",
            "i: 9\n",
            "switch to:  1\n",
            "i:10 done :)\n",
            "i:11 done :)\n",
            "i:12 done :)\n"
          ]
        },
        {
          "name": "stderr",
          "output_type": "stream",
          "text": [
            "WARNING:tornado.access:429 POST /v1beta/models/gemini-1.5-pro-latest:generateContent?%24alt=json%3Benum-encoding%3Dint (127.0.0.1) 612.11ms\n"
          ]
        },
        {
          "name": "stdout",
          "output_type": "stream",
          "text": [
            "\n",
            " sleep time by 10 seconds\n",
            "i: 12\n",
            "switch to:  0\n"
          ]
        },
        {
          "name": "stderr",
          "output_type": "stream",
          "text": [
            "WARNING:tornado.access:429 POST /v1beta/models/gemini-1.5-pro-latest:generateContent?%24alt=json%3Benum-encoding%3Dint (127.0.0.1) 358.73ms\n"
          ]
        },
        {
          "name": "stdout",
          "output_type": "stream",
          "text": [
            "\n",
            " sleep time by 10 seconds\n",
            "i: 12\n",
            "switch to:  1\n"
          ]
        },
        {
          "name": "stderr",
          "output_type": "stream",
          "text": [
            "WARNING:tornado.access:429 POST /v1beta/models/gemini-1.5-pro-latest:generateContent?%24alt=json%3Benum-encoding%3Dint (127.0.0.1) 307.38ms\n"
          ]
        },
        {
          "name": "stdout",
          "output_type": "stream",
          "text": [
            "\n",
            " sleep time by 10 seconds\n",
            "i: 12\n",
            "switch to:  0\n",
            "i:13 done :)\n"
          ]
        },
        {
          "name": "stderr",
          "output_type": "stream",
          "text": [
            "WARNING:tornado.access:429 POST /v1beta/models/gemini-1.5-pro-latest:generateContent?%24alt=json%3Benum-encoding%3Dint (127.0.0.1) 358.39ms\n"
          ]
        },
        {
          "name": "stdout",
          "output_type": "stream",
          "text": [
            "\n",
            " sleep time by 10 seconds\n",
            "i: 13\n",
            "switch to:  1\n"
          ]
        },
        {
          "name": "stderr",
          "output_type": "stream",
          "text": [
            "WARNING:tornado.access:429 POST /v1beta/models/gemini-1.5-pro-latest:generateContent?%24alt=json%3Benum-encoding%3Dint (127.0.0.1) 307.40ms\n"
          ]
        },
        {
          "name": "stdout",
          "output_type": "stream",
          "text": [
            "\n",
            " sleep time by 10 seconds\n",
            "i: 13\n",
            "switch to:  0\n",
            "i:14 done :)\n",
            "i:15 done :)\n",
            "i:16 done :)\n"
          ]
        },
        {
          "name": "stderr",
          "output_type": "stream",
          "text": [
            "WARNING:tornado.access:429 POST /v1beta/models/gemini-1.5-pro-latest:generateContent?%24alt=json%3Benum-encoding%3Dint (127.0.0.1) 384.49ms\n"
          ]
        },
        {
          "name": "stdout",
          "output_type": "stream",
          "text": [
            "\n",
            " sleep time by 10 seconds\n",
            "i: 16\n",
            "switch to:  1\n"
          ]
        },
        {
          "name": "stderr",
          "output_type": "stream",
          "text": [
            "WARNING:tornado.access:429 POST /v1beta/models/gemini-1.5-pro-latest:generateContent?%24alt=json%3Benum-encoding%3Dint (127.0.0.1) 256.07ms\n"
          ]
        },
        {
          "name": "stdout",
          "output_type": "stream",
          "text": [
            "\n",
            " sleep time by 10 seconds\n",
            "i: 16\n",
            "switch to:  0\n",
            "i:17 done :)\n"
          ]
        },
        {
          "name": "stderr",
          "output_type": "stream",
          "text": [
            "WARNING:tornado.access:429 POST /v1beta/models/gemini-1.5-pro-latest:generateContent?%24alt=json%3Benum-encoding%3Dint (127.0.0.1) 256.98ms\n"
          ]
        },
        {
          "name": "stdout",
          "output_type": "stream",
          "text": [
            "\n",
            " sleep time by 10 seconds\n",
            "i: 17\n",
            "switch to:  1\n"
          ]
        },
        {
          "name": "stderr",
          "output_type": "stream",
          "text": [
            "WARNING:tornado.access:429 POST /v1beta/models/gemini-1.5-pro-latest:generateContent?%24alt=json%3Benum-encoding%3Dint (127.0.0.1) 281.32ms\n"
          ]
        },
        {
          "name": "stdout",
          "output_type": "stream",
          "text": [
            "\n",
            " sleep time by 10 seconds\n",
            "i: 17\n",
            "switch to:  0\n",
            "i:18 done :)\n",
            "i:19 done :)\n",
            "i:20 done :)\n"
          ]
        },
        {
          "name": "stderr",
          "output_type": "stream",
          "text": [
            "WARNING:tornado.access:429 POST /v1beta/models/gemini-1.5-pro-latest:generateContent?%24alt=json%3Benum-encoding%3Dint (127.0.0.1) 432.83ms\n"
          ]
        },
        {
          "name": "stdout",
          "output_type": "stream",
          "text": [
            "\n",
            " sleep time by 10 seconds\n",
            "i: 20\n",
            "switch to:  1\n"
          ]
        },
        {
          "name": "stderr",
          "output_type": "stream",
          "text": [
            "WARNING:tornado.access:429 POST /v1beta/models/gemini-1.5-pro-latest:generateContent?%24alt=json%3Benum-encoding%3Dint (127.0.0.1) 256.32ms\n"
          ]
        },
        {
          "name": "stdout",
          "output_type": "stream",
          "text": [
            "\n",
            " sleep time by 10 seconds\n",
            "i: 20\n",
            "switch to:  0\n"
          ]
        },
        {
          "name": "stderr",
          "output_type": "stream",
          "text": [
            "WARNING:tornado.access:429 POST /v1beta/models/gemini-1.5-pro-latest:generateContent?%24alt=json%3Benum-encoding%3Dint (127.0.0.1) 280.75ms\n"
          ]
        },
        {
          "name": "stdout",
          "output_type": "stream",
          "text": [
            "\n",
            " sleep time by 10 seconds\n",
            "i: 20\n",
            "switch to:  1\n",
            "i:21 done :)\n"
          ]
        },
        {
          "name": "stderr",
          "output_type": "stream",
          "text": [
            "WARNING:tornado.access:429 POST /v1beta/models/gemini-1.5-pro-latest:generateContent?%24alt=json%3Benum-encoding%3Dint (127.0.0.1) 281.35ms\n"
          ]
        },
        {
          "name": "stdout",
          "output_type": "stream",
          "text": [
            "\n",
            " sleep time by 10 seconds\n",
            "i: 21\n",
            "switch to:  0\n",
            "i:22 done :)\n",
            "i:23 done :)\n",
            "i:24 done :)\n"
          ]
        },
        {
          "name": "stderr",
          "output_type": "stream",
          "text": [
            "WARNING:tornado.access:429 POST /v1beta/models/gemini-1.5-pro-latest:generateContent?%24alt=json%3Benum-encoding%3Dint (127.0.0.1) 282.21ms\n"
          ]
        },
        {
          "name": "stdout",
          "output_type": "stream",
          "text": [
            "\n",
            " sleep time by 10 seconds\n",
            "i: 24\n",
            "switch to:  1\n"
          ]
        },
        {
          "name": "stderr",
          "output_type": "stream",
          "text": [
            "WARNING:tornado.access:429 POST /v1beta/models/gemini-1.5-pro-latest:generateContent?%24alt=json%3Benum-encoding%3Dint (127.0.0.1) 281.77ms\n"
          ]
        },
        {
          "name": "stdout",
          "output_type": "stream",
          "text": [
            "\n",
            " sleep time by 10 seconds\n",
            "i: 24\n",
            "switch to:  0\n"
          ]
        },
        {
          "name": "stderr",
          "output_type": "stream",
          "text": [
            "WARNING:tornado.access:429 POST /v1beta/models/gemini-1.5-pro-latest:generateContent?%24alt=json%3Benum-encoding%3Dint (127.0.0.1) 255.75ms\n"
          ]
        },
        {
          "name": "stdout",
          "output_type": "stream",
          "text": [
            "\n",
            " sleep time by 10 seconds\n",
            "i: 24\n",
            "switch to:  1\n"
          ]
        },
        {
          "name": "stderr",
          "output_type": "stream",
          "text": [
            "WARNING:tornado.access:429 POST /v1beta/models/gemini-1.5-pro-latest:generateContent?%24alt=json%3Benum-encoding%3Dint (127.0.0.1) 437.13ms\n"
          ]
        },
        {
          "name": "stdout",
          "output_type": "stream",
          "text": [
            "\n",
            " sleep time by 10 seconds\n",
            "i: 24\n",
            "switch to:  0\n"
          ]
        },
        {
          "name": "stderr",
          "output_type": "stream",
          "text": [
            "WARNING:tornado.access:429 POST /v1beta/models/gemini-1.5-pro-latest:generateContent?%24alt=json%3Benum-encoding%3Dint (127.0.0.1) 281.38ms\n"
          ]
        },
        {
          "name": "stdout",
          "output_type": "stream",
          "text": [
            "\n",
            " sleep time by 10 seconds\n",
            "i: 24\n",
            "switch to:  1\n",
            "i:25 done :)\n",
            "i:26 done :)\n",
            "i:27 done :)\n",
            "i:28 done :)\n"
          ]
        },
        {
          "name": "stderr",
          "output_type": "stream",
          "text": [
            "WARNING:tornado.access:429 POST /v1beta/models/gemini-1.5-pro-latest:generateContent?%24alt=json%3Benum-encoding%3Dint (127.0.0.1) 382.54ms\n"
          ]
        },
        {
          "name": "stdout",
          "output_type": "stream",
          "text": [
            "\n",
            " sleep time by 10 seconds\n",
            "i: 28\n",
            "switch to:  0\n"
          ]
        },
        {
          "name": "stderr",
          "output_type": "stream",
          "text": [
            "WARNING:tornado.access:429 POST /v1beta/models/gemini-1.5-pro-latest:generateContent?%24alt=json%3Benum-encoding%3Dint (127.0.0.1) 332.49ms\n"
          ]
        },
        {
          "name": "stdout",
          "output_type": "stream",
          "text": [
            "\n",
            " sleep time by 10 seconds\n",
            "i: 28\n",
            "switch to:  1\n"
          ]
        },
        {
          "name": "stderr",
          "output_type": "stream",
          "text": [
            "WARNING:tornado.access:429 POST /v1beta/models/gemini-1.5-pro-latest:generateContent?%24alt=json%3Benum-encoding%3Dint (127.0.0.1) 281.20ms\n"
          ]
        },
        {
          "name": "stdout",
          "output_type": "stream",
          "text": [
            "\n",
            " sleep time by 10 seconds\n",
            "i: 28\n",
            "switch to:  0\n"
          ]
        },
        {
          "name": "stderr",
          "output_type": "stream",
          "text": [
            "WARNING:tornado.access:429 POST /v1beta/models/gemini-1.5-pro-latest:generateContent?%24alt=json%3Benum-encoding%3Dint (127.0.0.1) 282.36ms\n"
          ]
        },
        {
          "name": "stdout",
          "output_type": "stream",
          "text": [
            "\n",
            " sleep time by 10 seconds\n",
            "i: 28\n",
            "switch to:  1\n"
          ]
        },
        {
          "name": "stderr",
          "output_type": "stream",
          "text": [
            "WARNING:tornado.access:429 POST /v1beta/models/gemini-1.5-pro-latest:generateContent?%24alt=json%3Benum-encoding%3Dint (127.0.0.1) 280.59ms\n"
          ]
        },
        {
          "name": "stdout",
          "output_type": "stream",
          "text": [
            "\n",
            " sleep time by 10 seconds\n",
            "i: 28\n",
            "switch to:  0\n",
            "i:29 done :)\n",
            "i:30 done :)\n",
            "i:31 done :)\n"
          ]
        },
        {
          "name": "stderr",
          "output_type": "stream",
          "text": [
            "WARNING:tornado.access:429 POST /v1beta/models/gemini-1.5-pro-latest:generateContent?%24alt=json%3Benum-encoding%3Dint (127.0.0.1) 282.20ms\n"
          ]
        },
        {
          "name": "stdout",
          "output_type": "stream",
          "text": [
            "\n",
            " sleep time by 10 seconds\n",
            "i: 31\n",
            "switch to:  1\n"
          ]
        },
        {
          "name": "stderr",
          "output_type": "stream",
          "text": [
            "WARNING:tornado.access:429 POST /v1beta/models/gemini-1.5-pro-latest:generateContent?%24alt=json%3Benum-encoding%3Dint (127.0.0.1) 357.91ms\n"
          ]
        },
        {
          "name": "stdout",
          "output_type": "stream",
          "text": [
            "\n",
            " sleep time by 10 seconds\n",
            "i: 31\n",
            "switch to:  0\n",
            "i:32 done :)\n"
          ]
        },
        {
          "name": "stderr",
          "output_type": "stream",
          "text": [
            "WARNING:tornado.access:429 POST /v1beta/models/gemini-1.5-pro-latest:generateContent?%24alt=json%3Benum-encoding%3Dint (127.0.0.1) 283.49ms\n"
          ]
        },
        {
          "name": "stdout",
          "output_type": "stream",
          "text": [
            "\n",
            " sleep time by 10 seconds\n",
            "i: 32\n",
            "switch to:  1\n"
          ]
        },
        {
          "name": "stderr",
          "output_type": "stream",
          "text": [
            "WARNING:tornado.access:429 POST /v1beta/models/gemini-1.5-pro-latest:generateContent?%24alt=json%3Benum-encoding%3Dint (127.0.0.1) 331.17ms\n"
          ]
        },
        {
          "name": "stdout",
          "output_type": "stream",
          "text": [
            "\n",
            " sleep time by 10 seconds\n",
            "i: 32\n",
            "switch to:  0\n",
            "i:33 done :)\n",
            "i:34 done :)\n",
            "i:35 done :)\n",
            "i:36 done :)\n"
          ]
        },
        {
          "name": "stderr",
          "output_type": "stream",
          "text": [
            "WARNING:tornado.access:429 POST /v1beta/models/gemini-1.5-pro-latest:generateContent?%24alt=json%3Benum-encoding%3Dint (127.0.0.1) 257.13ms\n"
          ]
        },
        {
          "name": "stdout",
          "output_type": "stream",
          "text": [
            "\n",
            " sleep time by 10 seconds\n",
            "i: 36\n",
            "switch to:  1\n"
          ]
        },
        {
          "name": "stderr",
          "output_type": "stream",
          "text": [
            "WARNING:tornado.access:429 POST /v1beta/models/gemini-1.5-pro-latest:generateContent?%24alt=json%3Benum-encoding%3Dint (127.0.0.1) 256.38ms\n"
          ]
        },
        {
          "name": "stdout",
          "output_type": "stream",
          "text": [
            "\n",
            " sleep time by 10 seconds\n",
            "i: 36\n",
            "switch to:  0\n"
          ]
        },
        {
          "name": "stderr",
          "output_type": "stream",
          "text": [
            "WARNING:tornado.access:429 POST /v1beta/models/gemini-1.5-pro-latest:generateContent?%24alt=json%3Benum-encoding%3Dint (127.0.0.1) 282.24ms\n"
          ]
        },
        {
          "name": "stdout",
          "output_type": "stream",
          "text": [
            "\n",
            " sleep time by 10 seconds\n",
            "i: 36\n",
            "switch to:  1\n"
          ]
        },
        {
          "name": "stderr",
          "output_type": "stream",
          "text": [
            "WARNING:tornado.access:429 POST /v1beta/models/gemini-1.5-pro-latest:generateContent?%24alt=json%3Benum-encoding%3Dint (127.0.0.1) 306.23ms\n"
          ]
        },
        {
          "name": "stdout",
          "output_type": "stream",
          "text": [
            "\n",
            " sleep time by 10 seconds\n",
            "i: 36\n",
            "switch to:  0\n",
            "i:37 done :)\n",
            "i:38 done :)\n",
            "i:39 done :)\n"
          ]
        },
        {
          "name": "stderr",
          "output_type": "stream",
          "text": [
            "WARNING:tornado.access:429 POST /v1beta/models/gemini-1.5-pro-latest:generateContent?%24alt=json%3Benum-encoding%3Dint (127.0.0.1) 357.11ms\n"
          ]
        },
        {
          "name": "stdout",
          "output_type": "stream",
          "text": [
            "\n",
            " sleep time by 10 seconds\n",
            "i: 39\n",
            "switch to:  1\n"
          ]
        },
        {
          "name": "stderr",
          "output_type": "stream",
          "text": [
            "WARNING:tornado.access:429 POST /v1beta/models/gemini-1.5-pro-latest:generateContent?%24alt=json%3Benum-encoding%3Dint (127.0.0.1) 255.90ms\n"
          ]
        },
        {
          "name": "stdout",
          "output_type": "stream",
          "text": [
            "\n",
            " sleep time by 10 seconds\n",
            "i: 39\n",
            "switch to:  0\n",
            "i:40 done :)\n"
          ]
        },
        {
          "name": "stderr",
          "output_type": "stream",
          "text": [
            "WARNING:tornado.access:429 POST /v1beta/models/gemini-1.5-pro-latest:generateContent?%24alt=json%3Benum-encoding%3Dint (127.0.0.1) 356.73ms\n"
          ]
        },
        {
          "name": "stdout",
          "output_type": "stream",
          "text": [
            "\n",
            " sleep time by 10 seconds\n",
            "i: 40\n",
            "switch to:  1\n"
          ]
        },
        {
          "name": "stderr",
          "output_type": "stream",
          "text": [
            "WARNING:tornado.access:429 POST /v1beta/models/gemini-1.5-pro-latest:generateContent?%24alt=json%3Benum-encoding%3Dint (127.0.0.1) 281.13ms\n"
          ]
        },
        {
          "name": "stdout",
          "output_type": "stream",
          "text": [
            "\n",
            " sleep time by 10 seconds\n",
            "i: 40\n",
            "switch to:  0\n"
          ]
        },
        {
          "name": "stderr",
          "output_type": "stream",
          "text": [
            "WARNING:tornado.access:429 POST /v1beta/models/gemini-1.5-pro-latest:generateContent?%24alt=json%3Benum-encoding%3Dint (127.0.0.1) 281.73ms\n"
          ]
        },
        {
          "name": "stdout",
          "output_type": "stream",
          "text": [
            "\n",
            " sleep time by 10 seconds\n",
            "i: 40\n",
            "switch to:  1\n",
            "i:41 done :)\n"
          ]
        }
      ],
      "source": [
        "\n",
        "from tqdm import tqdm\n",
        "import time\n",
        "\n",
        "\n",
        "switch_flag = 1\n",
        "output_of_prompt = []\n",
        "\n",
        "i = 0\n",
        "while i != len(test_examples):\n",
        "    try:\n",
        "        convo.send_message(f\"requirement text: {test_examples[i]['text']}  \\n select multi labels:\")\n",
        "        prompt_out = convo.last.text\n",
        "\n",
        "\n",
        "\n",
        "        output_of_prompt.append({'i':i,\n",
        "                                'text':test_examples[i]['text'],\n",
        "                                'labels':test_examples[i]['labels'],\n",
        "                                'prompt_output': prompt_out})\n",
        "\n",
        "        time.sleep(2)\n",
        "        i += 1\n",
        "        print(f'i:{i} done :)')\n",
        "    except:\n",
        "        print('\\n sleep time by 10 seconds')\n",
        "        print('i:',i)\n",
        "        time.sleep(10)\n",
        "\n",
        "\n",
        "\n"
      ]
    },
    {
      "cell_type": "code",
      "execution_count": null,
      "metadata": {
        "colab": {
          "base_uri": "https://localhost:8080/"
        },
        "id": "TGYHzlyyBQW0",
        "outputId": "bfbbde56-c8fe-4421-e8fb-b292944b3ab1"
      },
      "outputs": [
        {
          "data": {
            "text/plain": [
              "[{'i': 0,\n",
              "  'text': 'The system shall support role-based access for security controls.',\n",
              "  'labels': ['AC'],\n",
              "  'prompt_output': \"labels: ['AC'] \\n\"},\n",
              " {'i': 1,\n",
              "  'text': 'The system shall implement a user class hierarchy to identify the roles that different users fulfill within the hospital.',\n",
              "  'labels': ['AC'],\n",
              "  'prompt_output': \"labels: ['AC'] \\n\"},\n",
              " {'i': 2,\n",
              "  'text': 'The system shall allow user classes to be defined hospital-wide or more narrowly for a specific service.',\n",
              "  'labels': ['AC'],\n",
              "  'prompt_output': \"labels: ['AC'] \\n\"},\n",
              " {'i': 3,\n",
              "  'text': 'The system shall allow user classes to be used across VistA to replace and/or complement security keys.',\n",
              "  'labels': ['AC'],\n",
              "  'prompt_output': \"labels: ['AC'] \\n\"},\n",
              " {'i': 4,\n",
              "  'text': 'The system shall require the entry of an access code and a verify code to gain access to the system.',\n",
              "  'labels': ['AC'],\n",
              "  'prompt_output': \"labels: ['PA'] \\n\"},\n",
              " {'i': 5,\n",
              "  'text': 'The system shall allow users who hold any of the ORES/ORELSE/PROVIDER keys to be viewed as a clinical user and has full access privileges to all problem list options.',\n",
              "  'labels': ['AC'],\n",
              "  'prompt_output': \"labels: ['AC'] \\n\"},\n",
              " {'i': 6,\n",
              "  'text': 'Clinician should have proper identification/authorization to access patient-specific information everywhere such information exists;',\n",
              "  'labels': ['AC', 'PA'],\n",
              "  'prompt_output': \"labels: ['AC'] \\n\"},\n",
              " {'i': 7,\n",
              "  'text': 'Clinician should have proper identification/authorization to access and review patient-specific information',\n",
              "  'labels': ['AC', 'PA'],\n",
              "  'prompt_output': \"labels: ['AC'] \\n\"},\n",
              " {'i': 8,\n",
              "  'text': 'methods to enforce data access authorization policies.',\n",
              "  'labels': ['AC'],\n",
              "  'prompt_output': \"labels: ['AC'] \\n\"},\n",
              " {'i': 9,\n",
              "  'text': 'Authenticate and verify as ordering clinician or provider of care: May include provider identification and validation of credentials, privileges and/or other authorization.',\n",
              "  'labels': ['AC'],\n",
              "  'prompt_output': \"labels: ['PA'] \\n\"},\n",
              " {'i': 10,\n",
              "  'text': 'The system shall ask the user if the user wants to continue using the system before timing out.',\n",
              "  'labels': ['AL'],\n",
              "  'prompt_output': \"labels: ['AL'] \\n\"},\n",
              " {'i': 11,\n",
              "  'text': 'System should record a log everytime View medical records transaction is performed',\n",
              "  'labels': ['AUD'],\n",
              "  'prompt_output': \"labels: ['AUD'] \\n\"},\n",
              " {'i': 12,\n",
              "  'text': 'System should record a log everytime Authenticate users transaction is performed',\n",
              "  'labels': ['AUD'],\n",
              "  'prompt_output': \"labels: ['AUD'] \\n\\n\\n\"},\n",
              " {'i': 13,\n",
              "  'text': 'System should record a log everytime Enter/edit personal health information transaction is performed',\n",
              "  'labels': ['AUD'],\n",
              "  'prompt_output': \"labels: ['AUD'] \\n\"},\n",
              " {'i': 14,\n",
              "  'text': 'System should record a log everytime Document office visit transaction is performed',\n",
              "  'labels': ['AUD'],\n",
              "  'prompt_output': \"labels: ['AUD'] \\n\"},\n",
              " {'i': 15,\n",
              "  'text': 'System should record a log everytime Create/disable patient or HCP transaction is performed',\n",
              "  'labels': ['AUD'],\n",
              "  'prompt_output': \"labels: ['AUD'] \\n\\n\\n\"},\n",
              " {'i': 16,\n",
              "  'text': 'System should record a log everytime Diagnosis code transaction is performed',\n",
              "  'labels': ['AUD'],\n",
              "  'prompt_output': \"labels: ['AUD'] \\n\\n\\n\"},\n",
              " {'i': 17,\n",
              "  'text': 'Access to each chart is logged, there are varying levels of auditing that can be turned on - such as auditing opening a form',\n",
              "  'labels': ['AUD'],\n",
              "  'prompt_output': \"labels: ['AUD'] \\n\"},\n",
              " {'i': 18,\n",
              "  'text': 'Custom auditing can be plugged in for various events.',\n",
              "  'labels': ['AUD'],\n",
              "  'prompt_output': \"labels: ['AUD'] \\n\\n\\n\"},\n",
              " {'i': 19,\n",
              "  'text': 'The system audit trail shall automatically capture system data changes, edits, charged, credits by all users.',\n",
              "  'labels': ['AUD'],\n",
              "  'prompt_output': \"labels: ['AUD'] \\n\\n\\n\"},\n",
              " {'i': 20,\n",
              "  'text': 'The system shall support audit capability.',\n",
              "  'labels': ['AUD'],\n",
              "  'prompt_output': \"labels: ['AUD'] \\n\\n\\n\\n\\n\"},\n",
              " {'i': 21,\n",
              "  'text': 'The system shall audit sensitive records, enabling a site to follow up on a record accessed by a remote location.',\n",
              "  'labels': ['AUD'],\n",
              "  'prompt_output': \"labels: ['AUD'] \\n\"},\n",
              " {'i': 22,\n",
              "  'text': 'Log interaction with data repository',\n",
              "  'labels': ['AUD'],\n",
              "  'prompt_output': \"labels: ['AUD'] \\n\\n\\n\"},\n",
              " {'i': 23,\n",
              "  'text': 'Log receipt and storage of lab test results',\n",
              "  'labels': ['AUD'],\n",
              "  'prompt_output': \"labels: ['AUD'] \\n\"},\n",
              " {'i': 24,\n",
              "  'text': 'Log interaction with locator system',\n",
              "  'labels': ['AUD'],\n",
              "  'prompt_output': \"labels: ['AUD'] \\n\"},\n",
              " {'i': 25,\n",
              "  'text': 'Log receipt of lab test results: Include patient consent information in log.',\n",
              "  'labels': ['AUD'],\n",
              "  'prompt_output': \"labels: ['AUD'] \\n\\n\\n\"},\n",
              " {'i': 26,\n",
              "  'text': 'Log interaction with locator service',\n",
              "  'labels': ['AUD'],\n",
              "  'prompt_output': \"labels: ['AUD'] \\n\\n\\n\"},\n",
              " {'i': 27,\n",
              "  'text': 'Log interaction with clinician',\n",
              "  'labels': ['AUD'],\n",
              "  'prompt_output': \"labels: ['AUD'] \\n\\n\\n\\n\\n\"},\n",
              " {'i': 28,\n",
              "  'text': 'Submit authentication: Establish clinician s identity and verify whether clinician is a provider of care',\n",
              "  'labels': ['PA'],\n",
              "  'prompt_output': \"labels: ['PA'] \\n\\n\\n\"},\n",
              " {'i': 29,\n",
              "  'text': 'One of many authentication methods could be used (biometrics, card, token or user ID and password, cryptographic techniques).',\n",
              "  'labels': ['PA'],\n",
              "  'prompt_output': \"labels: ['PA'] \\n\\n\\n\\n\\n\"},\n",
              " {'i': 30,\n",
              "  'text': 'Authenticate clinician requesting laboratory test results',\n",
              "  'labels': ['PA'],\n",
              "  'prompt_output': \"labels: ['PA'] \\n\\n\\n\\n\\n\"},\n",
              " {'i': 31,\n",
              "  'text': 'Establish clinician s identity and verify status as ordering clinician or provider of care.',\n",
              "  'labels': ['PA'],\n",
              "  'prompt_output': \"labels: ['PA'] \\n\"},\n",
              " {'i': 32,\n",
              "  'text': 'Note that the clinician may be an individual, an organization or  system.  The nature of the identification/authentication will be different in each case.',\n",
              "  'labels': ['PA'],\n",
              "  'prompt_output': \"labels: ['PA'] \\n\\n\\n\"},\n",
              " {'i': 33,\n",
              "  'text': 'Submit authentication information to locator system: Establish clinician s identity and verify whether clinician is a provider of care Note that the clinician may be an individual, an organization or  system .',\n",
              "  'labels': ['PA'],\n",
              "  'prompt_output': \"labels: ['PA'] \\n\\n\\n\\n\\n\"},\n",
              " {'i': 34,\n",
              "  'text': 'Individual fields can be encrypted.',\n",
              "  'labels': ['SED'],\n",
              "  'prompt_output': \"labels: ['SED'] \\n\\n\\n\"},\n",
              " {'i': 35,\n",
              "  'text': 'Verify integrity of test result (file) contents and that the results came from the identified source.',\n",
              "  'labels': ['IC'],\n",
              "  'prompt_output': \"labels: ['IC'] \\n\"},\n",
              " {'i': 36,\n",
              "  'text': 'methods to ensure the veracity of data,',\n",
              "  'labels': ['IC'],\n",
              "  'prompt_output': \"labels: ['IC'] \\n\\n\\n\"},\n",
              " {'i': 37,\n",
              "  'text': 'Authorize release of laboratory test results: Test results released to clinician based on verification as ordering clinician or provider of care status and other appropriate restrictions for use.',\n",
              "  'labels': ['IC'],\n",
              "  'prompt_output': \"labels: ['AC'] \\n\\n\\n\"},\n",
              " {'i': 38,\n",
              "  'text': 'The secrecy of the content is maintained during transmission.',\n",
              "  'labels': ['TS'],\n",
              "  'prompt_output': \"labels: ['else'] \\n\"},\n",
              " {'i': 39,\n",
              "  'text': 'methods to correctly match patients across systems.',\n",
              "  'labels': ['UUI'],\n",
              "  'prompt_output': \"labels: ['IC'] \\n\"},\n",
              " {'i': 40,\n",
              "  'text': 'Clinician should be able to uniquely identify patient for which information has been requested;',\n",
              "  'labels': ['UUI'],\n",
              "  'prompt_output': \"labels: ['IC', 'UUI'] \\n\"}]"
            ]
          },
          "execution_count": 94,
          "metadata": {},
          "output_type": "execute_result"
        }
      ],
      "source": [
        "output_of_prompt"
      ]
    },
    {
      "cell_type": "code",
      "execution_count": null,
      "metadata": {
        "id": "58T0l7nIUrUg"
      },
      "outputs": [],
      "source": [
        "# prompt: save output_of_prompt\n",
        "\n",
        "with open(f'output_of_prompt.json', 'w') as f:\n",
        "    json.dump(output_of_prompt, f)\n"
      ]
    },
    {
      "cell_type": "code",
      "execution_count": null,
      "metadata": {
        "colab": {
          "base_uri": "https://localhost:8080/"
        },
        "id": "sQNZP-WElbu-",
        "outputId": "0b0e193c-ac23-48dd-99ae-1b41539f2c93"
      },
      "outputs": [
        {
          "name": "stdout",
          "output_type": "stream",
          "text": [
            "Accuracy:  0.9688995215311005\n",
            "Recall:  0.8372093023255814\n",
            "Precision:  0.8571428571428571\n",
            "F1-score:  0.8470588235294119\n"
          ]
        }
      ],
      "source": [
        "import re\n",
        "\n",
        "with open(f'output_of_prompt.json', 'r') as f:\n",
        "  data = json.load(f)\n",
        "\n",
        "allregs = list(regulations.keys())\n",
        "def calculate_metrics(list1, list2):\n",
        "    tp = len(set(list1) & set(list2))  # Count elements common to both lists as true positives\n",
        "    fp = len(set(list2) - set(list1))  # Count elements in list2 but not in list1 as false positives\n",
        "    fn = len(set(list1) - set(list2))  # Count elements in list1 but not in list2 as false negatives\n",
        "    tn = len(set(allregs) - set(list2))\n",
        "    return tp, fp, fn, tn\n",
        "\n",
        "\n",
        "TP, TN, FP, FN = 0, 0, 0, 0\n",
        "for d in data:\n",
        "  label = d['labels']\n",
        "  output = d['prompt_output']\n",
        "\n",
        "  matches = re.search(r\"labels:\\s*\\[([^\\[\\]]*)\\]\", output)\n",
        "  extracted_list = matches.group(1)\n",
        "  extracted_list = extracted_list.split(\", \")\n",
        "  preds = [x.replace('\\'', '') for x in extracted_list]\n",
        "  tp, fp, fn, tn = calculate_metrics(label, preds)\n",
        "  TP += tp\n",
        "  TN += tn\n",
        "  FP += fp\n",
        "  FN += fn\n",
        "\n",
        "accuracy = (TP + TN) / (TP + TN + FP + FN)\n",
        "recall = TP / (TP + FN)\n",
        "precision = TP / (TP + FP)\n",
        "F1 = 2*recall*precision / (recall + precision)\n",
        "print('Accuracy: ', accuracy)\n",
        "print('Recall: ', recall)\n",
        "print('Precision: ', precision)\n",
        "print('F1-score: ', F1)"
      ]
    }
  ],
  "metadata": {
    "colab": {
      "provenance": []
    },
    "kernelspec": {
      "display_name": "Python 3",
      "name": "python3"
    },
    "language_info": {
      "name": "python"
    }
  },
  "nbformat": 4,
  "nbformat_minor": 0
}
